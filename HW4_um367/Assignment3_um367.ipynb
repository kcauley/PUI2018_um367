{
 "cells": [
  {
   "cell_type": "code",
   "execution_count": 1,
   "metadata": {},
   "outputs": [],
   "source": [
    "import numpy as np\n",
    "import os"
   ]
  },
  {
   "cell_type": "code",
   "execution_count": 9,
   "metadata": {},
   "outputs": [],
   "source": [
    "populationMean = 36\n",
    "populationStandardDeviation = 6"
   ]
  },
  {
   "cell_type": "markdown",
   "metadata": {},
   "source": [
    "### Null Hypothesis:\n",
    "The average trip time for the alternate bus route for X8 is same or longer than the population average of the traditional bus route.\n",
    "Significance level: 0.05\n",
    "\n",
    "H0: sampleMean >= populationMean"
   ]
  },
  {
   "cell_type": "markdown",
   "metadata": {},
   "source": [
    "### Alternate Hypothesis:\n",
    "The average trip time for the alternate bus route for X8 is significantly shorter than the population average of the traditional bus route.\n",
    "\n",
    "H1: sampleMean < populationMean"
   ]
  },
  {
   "cell_type": "code",
   "execution_count": 17,
   "metadata": {},
   "outputs": [],
   "source": [
    "#os.environ[\"PUIDATA\"] = '/home/urwa/PUI/PUIData'"
   ]
  },
  {
   "cell_type": "markdown",
   "metadata": {},
   "source": [
    "## The times files should be in the PUIData folder for this script to run!"
   ]
  },
  {
   "cell_type": "code",
   "execution_count": 18,
   "metadata": {},
   "outputs": [],
   "source": [
    "filename = 'times.txt'\n",
    "filePath = os.getenv('PUIDATA')+'/'+filename\n",
    "times = open(filename).read().splitlines()"
   ]
  },
  {
   "cell_type": "code",
   "execution_count": 19,
   "metadata": {},
   "outputs": [],
   "source": [
    "times = [float(i) for i in times]"
   ]
  },
  {
   "cell_type": "code",
   "execution_count": 20,
   "metadata": {},
   "outputs": [],
   "source": [
    "sampleMean = np.mean(times)\n",
    "sampleSize = len(times)"
   ]
  },
  {
   "cell_type": "markdown",
   "metadata": {},
   "source": [
    "It is the one tail test. So we look up critical calue from the table."
   ]
  },
  {
   "cell_type": "code",
   "execution_count": 21,
   "metadata": {},
   "outputs": [],
   "source": [
    "criticalValue = -1.65"
   ]
  },
  {
   "cell_type": "markdown",
   "metadata": {},
   "source": [
    "#### Rejection region is z value less than critical value."
   ]
  },
  {
   "cell_type": "code",
   "execution_count": 22,
   "metadata": {},
   "outputs": [
    {
     "name": "stdout",
     "output_type": "stream",
     "text": [
      "Zscore: -2.55639718616667\n"
     ]
    }
   ],
   "source": [
    "zscore = ( sampleMean - populationMean ) / (populationStandardDeviation/np.sqrt(sampleSize))\n",
    "print('Zscore: '+str(zscore))"
   ]
  },
  {
   "cell_type": "code",
   "execution_count": 23,
   "metadata": {},
   "outputs": [
    {
     "name": "stdout",
     "output_type": "stream",
     "text": [
      "Reject the Null Hypothesis in the favour of Alternate Hypothesis.\n"
     ]
    }
   ],
   "source": [
    "if(zscore < criticalValue):\n",
    "    print(\"Reject the Null Hypothesis in the favour of Alternate Hypothesis.\")\n",
    "else:\n",
    "    print(\"We are unable to reject the null hypothesis\")"
   ]
  }
 ],
 "metadata": {
  "kernelspec": {
   "display_name": "Python 2",
   "language": "python",
   "name": "python2"
  },
  "language_info": {
   "codemirror_mode": {
    "name": "ipython",
    "version": 2
   },
   "file_extension": ".py",
   "mimetype": "text/x-python",
   "name": "python",
   "nbconvert_exporter": "python",
   "pygments_lexer": "ipython2",
   "version": "2.7.15"
  }
 },
 "nbformat": 4,
 "nbformat_minor": 2
}
