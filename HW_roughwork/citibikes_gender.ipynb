{
 "cells": [
  {
   "cell_type": "markdown",
   "metadata": {},
   "source": [
    "# Written by Federica B. Bianco @fedhere\n",
    "# for NYU CUSP PUI\n",
    "# This is my example of Assignment 2, Phase 1 and 2.\n",
    "# For Assignment 2 you should design your own investigation into the citibike data.\n",
    "- # Come up with a question about the Citibike data usage. It can be anything that involves Categorical data. \n",
    "    # At this point of the class it is easier to run tests of proportions or similar, and work with categorical data. Categorical cn be anhything that can be punt into classes (e.g. day/night, male/female, 2014/2015/2016.... as long as you set up your experiment the proper way!)\n",
    "- # Choose the significance threshold\n",
    "- # Clearly state they Null and Alternate hypothesis\n",
    "- # Wrangle the data so that it is ready for your analysis."
   ]
  },
  {
   "cell_type": "code",
   "execution_count": 9,
   "metadata": {
    "scrolled": true
   },
   "outputs": [
    {
     "name": "stdout",
     "output_type": "stream",
     "text": [
      "Populating the interactive namespace from numpy and matplotlib\n",
      "/home/urwa/PUI/PUI2018\n",
      "/home/urwa/PUI/PUIData\n"
     ]
    },
    {
     "ename": "FileNotFoundError",
     "evalue": "[Errno 2] No such file or directory: '/home/urwa/PUI/PUI2018/fbb_matplotlibrc.json'",
     "output_type": "error",
     "traceback": [
      "\u001b[0;31m---------------------------------------------------------------------------\u001b[0m",
      "\u001b[0;31mFileNotFoundError\u001b[0m                         Traceback (most recent call last)",
      "\u001b[0;32m<ipython-input-9-628f6317a1ce>\u001b[0m in \u001b[0;36m<module>\u001b[0;34m()\u001b[0m\n\u001b[1;32m     17\u001b[0m \u001b[0;34m\u001b[0m\u001b[0m\n\u001b[1;32m     18\u001b[0m \u001b[0;32mimport\u001b[0m \u001b[0mjson\u001b[0m\u001b[0;34m\u001b[0m\u001b[0m\n\u001b[0;32m---> 19\u001b[0;31m \u001b[0ms\u001b[0m \u001b[0;34m=\u001b[0m \u001b[0mjson\u001b[0m\u001b[0;34m.\u001b[0m\u001b[0mload\u001b[0m\u001b[0;34m(\u001b[0m \u001b[0mopen\u001b[0m\u001b[0;34m(\u001b[0m\u001b[0mos\u001b[0m\u001b[0;34m.\u001b[0m\u001b[0mgetenv\u001b[0m\u001b[0;34m(\u001b[0m\u001b[0;34m'PUI2018'\u001b[0m\u001b[0;34m)\u001b[0m \u001b[0;34m+\u001b[0m \u001b[0;34m\"/fbb_matplotlibrc.json\"\u001b[0m\u001b[0;34m)\u001b[0m \u001b[0;34m)\u001b[0m\u001b[0;34m\u001b[0m\u001b[0m\n\u001b[0m\u001b[1;32m     20\u001b[0m \u001b[0mpl\u001b[0m\u001b[0;34m.\u001b[0m\u001b[0mrcParams\u001b[0m\u001b[0;34m.\u001b[0m\u001b[0mupdate\u001b[0m\u001b[0;34m(\u001b[0m\u001b[0ms\u001b[0m\u001b[0;34m)\u001b[0m\u001b[0;34m\u001b[0m\u001b[0m\n",
      "\u001b[0;31mFileNotFoundError\u001b[0m: [Errno 2] No such file or directory: '/home/urwa/PUI/PUI2018/fbb_matplotlibrc.json'"
     ]
    }
   ],
   "source": [
    "from __future__  import print_function, division\n",
    "import pylab as pl\n",
    "import pandas as pd\n",
    "import numpy as np\n",
    "import os\n",
    "\n",
    "%pylab inline\n",
    "\n",
    "\n",
    "if os.getenv ('PUI2018') is None:\n",
    "    print (\"Must set env variable PUI2018\")\n",
    "if os.getenv ('PUIDATA') is None:\n",
    "    print (\"Must set env variable PUIDATA\")        \n",
    "    \n",
    "import json\n",
    "s = json.load( open(os.getenv('PUI2018') + \"/fbb_matplotlibrc.json\") )\n",
    "pl.rcParams.update(s)"
   ]
  },
  {
   "cell_type": "code",
   "execution_count": 8,
   "metadata": {},
   "outputs": [],
   "source": [
    "os.environ[\"PUIDATA\"] = '/home/urwa/PUI/PUIData'"
   ]
  },
  {
   "cell_type": "markdown",
   "metadata": {},
   "source": [
    "# IDEA:\n",
    "## Women are less likely than men to choose biking _for commuting_\n",
    "\n",
    "# NULL HYPOTHESIS:\n",
    "## The proportion of men biking on weekends is _the same_ or _higher_  than the proportion of women biking on weekends\n",
    "\n",
    "# _$H_0$_ : $\\frac{W_{\\mathrm{weekend}}}{W_{\\mathrm{total}}} <= \\frac{M_{\\mathrm{weekend}}}{M_{\\mathrm{total}}}$\n",
    "# _$H_1$_ : $\\frac{W_{\\mathrm{weekend}}}{W_{\\mathrm{total}}} > \\frac{M_{\\mathrm{total}}}{M_{\\mathrm{total}}}$\n",
    "\n",
    "or identically:\n",
    "\n",
    "# _$H_0$_ : $\\frac{W_{\\mathrm{weekend}}}{W_{\\mathrm{total}}} - \\frac{M_{\\mathrm{weekend}}}{M_{\\mathrm{total}}} <= 0 $\n",
    "# _$H_1$_ : $\\frac{W_{\\mathrm{weekend}}}{W_{\\mathrm{total}}} - \\frac{M_{\\mathrm{weekend}}}{M_{\\mathrm{total}}} > 0$\n",
    "## I will use a significance level  $\\alpha=0.05$\n",
    "\n",
    "#### which means i want the probability of getting a result at least as significant as mine to be less then 5%"
   ]
  },
  {
   "cell_type": "markdown",
   "metadata": {},
   "source": [
    "## I am starting with a single month of data:  reading data from citibike csv file from Jan 2015\n",
    "\n",
    "what I want is the date and time of the beginning of each trip. pandas has an easy method to read csv files, and an easy method to convert strinds to dates.\n",
    "\n",
    "if i read a csv file with pandas the content is stored in a \"DataFrame\". You can think of it as a python dictionary in many ways,but it has many added capabilities: it is easy to convert variables within it, it knows how to plot itself, etc."
   ]
  },
  {
   "cell_type": "markdown",
   "metadata": {},
   "source": [
    "### download and move  data to PUIDATA\n",
    "# NOTE: \n",
    "# 1. access to data from within the notebook _is required_\n",
    "# 2. if data is downloaded it _must_ be stored in a directory pointed to by the environmental variable PUIDATA"
   ]
  },
  {
   "cell_type": "code",
   "execution_count": 11,
   "metadata": {},
   "outputs": [],
   "source": [
    "### A function to download the data: simple bash commands can be run by preceding them with !\n",
    "### but more complex command lines with variable arguments need to be build as strng and run with os.system\n",
    "### this code cell does a lot of things: looks for existing files, download a file if none is there, unzips it, moves it.\n",
    "### you do not have to have a code cell this complicated. \n",
    "### As long as \n",
    "### 1) your research is reproducible: we can access the same file as you without having to ask you for the file\n",
    "### 2) and your data is stored in a directory pointed to by the env variable PUIDATA \n",
    "### you will be fine. We already explored how to download data in other notebooks!\n",
    "\n",
    "def getCitiBikeCSV(datestring):\n",
    "    print (\"Downloading\", datestring)\n",
    "    ### First I will heck that it is not already there\n",
    "    if not os.path.isfile(os.getenv(\"PUIDATA\") + \"/\" + datestring + \"-citibike-tripdata.csv\"):\n",
    "        if os.path.isfile(datestring + \"-citibike-tripdata.csv\"):\n",
    "            # if in the current dir just move it\n",
    "            if os.system(\"mv \" + datestring + \"-citibike-tripdata.csv \" + os.getenv(\"PUIDATA\")):\n",
    "                print (\"Error moving file!, Please check!\")\n",
    "        #otherwise start looking for the zip file\n",
    "        else:\n",
    "            if not os.path.isfile(os.getenv(\"PUIDATA\") + \"/\" + datestring + \"-citibike-tripdata.zip\"):\n",
    "                if not os.path.isfile(datestring + \"-citibike-tripdata.zip\"):\n",
    "                    os.system(\"curl -O https://s3.amazonaws.com/tripdata/\" + datestring + \"-citibike-tripdata.zip\")\n",
    "                ###  To move it I use the os.system() functions to run bash commands with arguments\n",
    "                os.system(\"mv \" + datestring + \"-citibike-tripdata.zip \" + os.getenv(\"PUIDATA\"))\n",
    "            ### unzip the csv \n",
    "            os.system(\"unzip \" + os.getenv(\"PUIDATA\") + \"/\" + datestring + \"-citibike-tripdata.zip\")\n",
    "            ## NOTE: old csv citibike data had a different name structure. \n",
    "            if '2014' in datestring:\n",
    "                os.system(\"mv \" + datestring[:4] + '-' +  datestring[4:] + \n",
    "                          \"\\ -\\ Citi\\ Bike\\ trip\\ data.csv \" + datestring + \"-citibike-tripdata.csv\")\n",
    "            os.system(\"mv \" + datestring + \"-citibike-tripdata.csv \" + os.getenv(\"PUIDATA\"))\n",
    "    ### One final check:\n",
    "    if not os.path.isfile(os.getenv(\"PUIDATA\") + \"/\" + datestring + \"-citibike-tripdata.csv\"):\n",
    "        print (\"WARNING!!! something is wrong: the file is not there!\")\n",
    "\n",
    "    else:\n",
    "        print (\"file in place, you can continue\")"
   ]
  },
  {
   "cell_type": "code",
   "execution_count": 24,
   "metadata": {},
   "outputs": [
    {
     "name": "stdout",
     "output_type": "stream",
     "text": [
      "Downloading 201401\n",
      "file in place, you can continue\n"
     ]
    }
   ],
   "source": [
    "datestring = '201401'\n",
    "getCitiBikeCSV(datestring)"
   ]
  },
  {
   "cell_type": "code",
   "execution_count": 13,
   "metadata": {},
   "outputs": [
    {
     "data": {
      "text/html": [
       "<div>\n",
       "<style scoped>\n",
       "    .dataframe tbody tr th:only-of-type {\n",
       "        vertical-align: middle;\n",
       "    }\n",
       "\n",
       "    .dataframe tbody tr th {\n",
       "        vertical-align: top;\n",
       "    }\n",
       "\n",
       "    .dataframe thead th {\n",
       "        text-align: right;\n",
       "    }\n",
       "</style>\n",
       "<table border=\"1\" class=\"dataframe\">\n",
       "  <thead>\n",
       "    <tr style=\"text-align: right;\">\n",
       "      <th></th>\n",
       "      <th>tripduration</th>\n",
       "      <th>starttime</th>\n",
       "      <th>stoptime</th>\n",
       "      <th>start station id</th>\n",
       "      <th>start station name</th>\n",
       "      <th>start station latitude</th>\n",
       "      <th>start station longitude</th>\n",
       "      <th>end station id</th>\n",
       "      <th>end station name</th>\n",
       "      <th>end station latitude</th>\n",
       "      <th>end station longitude</th>\n",
       "      <th>bikeid</th>\n",
       "      <th>usertype</th>\n",
       "      <th>birth year</th>\n",
       "      <th>gender</th>\n",
       "      <th>date</th>\n",
       "    </tr>\n",
       "  </thead>\n",
       "  <tbody>\n",
       "    <tr>\n",
       "      <th>0</th>\n",
       "      <td>923</td>\n",
       "      <td>1/1/2016 00:00:41</td>\n",
       "      <td>1/1/2016 00:16:04</td>\n",
       "      <td>268</td>\n",
       "      <td>Howard St &amp; Centre St</td>\n",
       "      <td>40.719105</td>\n",
       "      <td>-73.999733</td>\n",
       "      <td>3002</td>\n",
       "      <td>South End Ave &amp; Liberty St</td>\n",
       "      <td>40.711512</td>\n",
       "      <td>-74.015756</td>\n",
       "      <td>22285</td>\n",
       "      <td>Subscriber</td>\n",
       "      <td>1958.0</td>\n",
       "      <td>1</td>\n",
       "      <td>2016-01-01 00:00:41</td>\n",
       "    </tr>\n",
       "    <tr>\n",
       "      <th>1</th>\n",
       "      <td>379</td>\n",
       "      <td>1/1/2016 00:00:45</td>\n",
       "      <td>1/1/2016 00:07:04</td>\n",
       "      <td>476</td>\n",
       "      <td>E 31 St &amp; 3 Ave</td>\n",
       "      <td>40.743943</td>\n",
       "      <td>-73.979661</td>\n",
       "      <td>498</td>\n",
       "      <td>Broadway &amp; W 32 St</td>\n",
       "      <td>40.748549</td>\n",
       "      <td>-73.988084</td>\n",
       "      <td>17827</td>\n",
       "      <td>Subscriber</td>\n",
       "      <td>1969.0</td>\n",
       "      <td>1</td>\n",
       "      <td>2016-01-01 00:00:45</td>\n",
       "    </tr>\n",
       "    <tr>\n",
       "      <th>2</th>\n",
       "      <td>589</td>\n",
       "      <td>1/1/2016 00:00:48</td>\n",
       "      <td>1/1/2016 00:10:37</td>\n",
       "      <td>489</td>\n",
       "      <td>10 Ave &amp; W 28 St</td>\n",
       "      <td>40.750664</td>\n",
       "      <td>-74.001768</td>\n",
       "      <td>284</td>\n",
       "      <td>Greenwich Ave &amp; 8 Ave</td>\n",
       "      <td>40.739017</td>\n",
       "      <td>-74.002638</td>\n",
       "      <td>21997</td>\n",
       "      <td>Subscriber</td>\n",
       "      <td>1982.0</td>\n",
       "      <td>2</td>\n",
       "      <td>2016-01-01 00:00:48</td>\n",
       "    </tr>\n",
       "    <tr>\n",
       "      <th>3</th>\n",
       "      <td>889</td>\n",
       "      <td>1/1/2016 00:01:06</td>\n",
       "      <td>1/1/2016 00:15:56</td>\n",
       "      <td>268</td>\n",
       "      <td>Howard St &amp; Centre St</td>\n",
       "      <td>40.719105</td>\n",
       "      <td>-73.999733</td>\n",
       "      <td>3002</td>\n",
       "      <td>South End Ave &amp; Liberty St</td>\n",
       "      <td>40.711512</td>\n",
       "      <td>-74.015756</td>\n",
       "      <td>22794</td>\n",
       "      <td>Subscriber</td>\n",
       "      <td>1961.0</td>\n",
       "      <td>2</td>\n",
       "      <td>2016-01-01 00:01:06</td>\n",
       "    </tr>\n",
       "    <tr>\n",
       "      <th>4</th>\n",
       "      <td>1480</td>\n",
       "      <td>1/1/2016 00:01:12</td>\n",
       "      <td>1/1/2016 00:25:52</td>\n",
       "      <td>2006</td>\n",
       "      <td>Central Park S &amp; 6 Ave</td>\n",
       "      <td>40.765909</td>\n",
       "      <td>-73.976342</td>\n",
       "      <td>2006</td>\n",
       "      <td>Central Park S &amp; 6 Ave</td>\n",
       "      <td>40.765909</td>\n",
       "      <td>-73.976342</td>\n",
       "      <td>14562</td>\n",
       "      <td>Subscriber</td>\n",
       "      <td>1952.0</td>\n",
       "      <td>1</td>\n",
       "      <td>2016-01-01 00:01:12</td>\n",
       "    </tr>\n",
       "  </tbody>\n",
       "</table>\n",
       "</div>"
      ],
      "text/plain": [
       "   tripduration          starttime           stoptime  start station id  \\\n",
       "0           923  1/1/2016 00:00:41  1/1/2016 00:16:04               268   \n",
       "1           379  1/1/2016 00:00:45  1/1/2016 00:07:04               476   \n",
       "2           589  1/1/2016 00:00:48  1/1/2016 00:10:37               489   \n",
       "3           889  1/1/2016 00:01:06  1/1/2016 00:15:56               268   \n",
       "4          1480  1/1/2016 00:01:12  1/1/2016 00:25:52              2006   \n",
       "\n",
       "       start station name  start station latitude  start station longitude  \\\n",
       "0   Howard St & Centre St               40.719105               -73.999733   \n",
       "1         E 31 St & 3 Ave               40.743943               -73.979661   \n",
       "2        10 Ave & W 28 St               40.750664               -74.001768   \n",
       "3   Howard St & Centre St               40.719105               -73.999733   \n",
       "4  Central Park S & 6 Ave               40.765909               -73.976342   \n",
       "\n",
       "   end station id            end station name  end station latitude  \\\n",
       "0            3002  South End Ave & Liberty St             40.711512   \n",
       "1             498          Broadway & W 32 St             40.748549   \n",
       "2             284       Greenwich Ave & 8 Ave             40.739017   \n",
       "3            3002  South End Ave & Liberty St             40.711512   \n",
       "4            2006      Central Park S & 6 Ave             40.765909   \n",
       "\n",
       "   end station longitude  bikeid    usertype  birth year  gender  \\\n",
       "0             -74.015756   22285  Subscriber      1958.0       1   \n",
       "1             -73.988084   17827  Subscriber      1969.0       1   \n",
       "2             -74.002638   21997  Subscriber      1982.0       2   \n",
       "3             -74.015756   22794  Subscriber      1961.0       2   \n",
       "4             -73.976342   14562  Subscriber      1952.0       1   \n",
       "\n",
       "                 date  \n",
       "0 2016-01-01 00:00:41  \n",
       "1 2016-01-01 00:00:45  \n",
       "2 2016-01-01 00:00:48  \n",
       "3 2016-01-01 00:01:06  \n",
       "4 2016-01-01 00:01:12  "
      ]
     },
     "execution_count": 13,
     "metadata": {},
     "output_type": "execute_result"
    }
   ],
   "source": [
    "df = pd.read_csv(os.getenv(\"PUIDATA\") + \"/\" + datestring + '-citibike-tripdata.csv')\n",
    "# df is the dataframe where the content of the csv file is stored\n",
    "df['date'] = pd.to_datetime(df['starttime'])\n",
    "# note that with dataframes I can refer to variables as dictionary keys, \n",
    "# i.e. df['starttime'] or as attributes: df.starttime. \n",
    "df.head()"
   ]
  },
  {
   "cell_type": "markdown",
   "metadata": {},
   "source": [
    "More females are using bike than before. % increase greater than men over years."
   ]
  },
  {
   "cell_type": "code",
   "execution_count": 14,
   "metadata": {},
   "outputs": [
    {
     "data": {
      "text/plain": [
       "Index(['tripduration', 'starttime', 'stoptime', 'start station id',\n",
       "       'start station name', 'start station latitude',\n",
       "       'start station longitude', 'end station id', 'end station name',\n",
       "       'end station latitude', 'end station longitude', 'bikeid', 'usertype',\n",
       "       'birth year', 'gender', 'date'],\n",
       "      dtype='object')"
      ]
     },
     "execution_count": 14,
     "metadata": {},
     "output_type": "execute_result"
    }
   ],
   "source": [
    "df.columns"
   ]
  },
  {
   "cell_type": "code",
   "execution_count": 15,
   "metadata": {},
   "outputs": [],
   "source": [
    "df.drop(['tripduration', 'starttime', 'stoptime', 'start station id',\n",
    "       'start station name', 'start station latitude',\n",
    "       'start station longitude', 'end station id', 'end station name',\n",
    "       'end station latitude', 'end station longitude', 'bikeid', 'usertype',\n",
    "       'birth year'], axis=1, inplace=True)"
   ]
  },
  {
   "cell_type": "code",
   "execution_count": 16,
   "metadata": {},
   "outputs": [
    {
     "data": {
      "text/html": [
       "<div>\n",
       "<style scoped>\n",
       "    .dataframe tbody tr th:only-of-type {\n",
       "        vertical-align: middle;\n",
       "    }\n",
       "\n",
       "    .dataframe tbody tr th {\n",
       "        vertical-align: top;\n",
       "    }\n",
       "\n",
       "    .dataframe thead th {\n",
       "        text-align: right;\n",
       "    }\n",
       "</style>\n",
       "<table border=\"1\" class=\"dataframe\">\n",
       "  <thead>\n",
       "    <tr style=\"text-align: right;\">\n",
       "      <th></th>\n",
       "      <th>gender</th>\n",
       "      <th>date</th>\n",
       "    </tr>\n",
       "  </thead>\n",
       "  <tbody>\n",
       "    <tr>\n",
       "      <th>0</th>\n",
       "      <td>1</td>\n",
       "      <td>2016-01-01 00:00:41</td>\n",
       "    </tr>\n",
       "    <tr>\n",
       "      <th>1</th>\n",
       "      <td>1</td>\n",
       "      <td>2016-01-01 00:00:45</td>\n",
       "    </tr>\n",
       "    <tr>\n",
       "      <th>2</th>\n",
       "      <td>2</td>\n",
       "      <td>2016-01-01 00:00:48</td>\n",
       "    </tr>\n",
       "    <tr>\n",
       "      <th>3</th>\n",
       "      <td>2</td>\n",
       "      <td>2016-01-01 00:01:06</td>\n",
       "    </tr>\n",
       "    <tr>\n",
       "      <th>4</th>\n",
       "      <td>1</td>\n",
       "      <td>2016-01-01 00:01:12</td>\n",
       "    </tr>\n",
       "  </tbody>\n",
       "</table>\n",
       "</div>"
      ],
      "text/plain": [
       "   gender                date\n",
       "0       1 2016-01-01 00:00:41\n",
       "1       1 2016-01-01 00:00:45\n",
       "2       2 2016-01-01 00:00:48\n",
       "3       2 2016-01-01 00:01:06\n",
       "4       1 2016-01-01 00:01:12"
      ]
     },
     "execution_count": 16,
     "metadata": {},
     "output_type": "execute_result"
    }
   ],
   "source": [
    "df.head()"
   ]
  },
  {
   "cell_type": "markdown",
   "metadata": {},
   "source": [
    "### Lets separate males (_m) from females (_w) to test the hypotheses.\n",
    "### In this csv file gender == 1 is male, gender == 2 is female\n",
    "\n",
    "### Lets plot the number of trips per week day"
   ]
  },
  {
   "cell_type": "code",
   "execution_count": 17,
   "metadata": {},
   "outputs": [
    {
     "data": {
      "text/plain": [
       "<matplotlib.legend.Legend at 0x7ff00848a2e8>"
      ]
     },
     "execution_count": 17,
     "metadata": {},
     "output_type": "execute_result"
    },
    {
     "data": {
      "image/png": "[encoded data removed]",
      "text/plain": [
       "<Figure size 1080x1080 with 1 Axes>"
      ]
     },
     "metadata": {
      "needs_background": "light"
     },
     "output_type": "display_data"
    }
   ],
   "source": [
    "fig = pl.figure(figsize(15,15))\n",
    "\n",
    "#instad of plotting with matplotlib i.e. plot() i use the plot method in pandas\n",
    "norm_w = 1\n",
    "((df['date'][df['gender'] == 2].groupby([df['date'].dt.weekday]).count()) / norm_w).plot(kind=\"bar\", \n",
    "                                                                                         color='IndianRed', \n",
    "                                                                                         label='female')\n",
    "\n",
    "norm_m = 1\n",
    "ax = ((df['date'][df['gender'] == 1].groupby([df['date'].dt.weekday]).count()) / norm_m).plot(kind=\"bar\", \n",
    "                                                                                              color='SteelBlue', \n",
    "                                                                                              alpha=0.5,\n",
    "                                                                                              label='male')\n",
    "\n",
    "tmp = ax.xaxis.set_ticklabels(['Mon', 'Tue', 'Wed', 'Thu', 'Fri', 'Sat', 'Sun'], fontsize=20)\n",
    "pl.legend()"
   ]
  },
  {
   "cell_type": "markdown",
   "metadata": {},
   "source": [
    "## Figure 1a: Distribution of Citibike bikers by gender in January 2015, absolute counts"
   ]
  },
  {
   "cell_type": "markdown",
   "metadata": {},
   "source": [
    "### Note: the counts have errors of course. what is the error on the count statistics? \n",
    "### for N counts the error is sqrt(N) - this is because counts follow a Poisson statistic"
   ]
  },
  {
   "cell_type": "code",
   "execution_count": 18,
   "metadata": {},
   "outputs": [
    {
     "data": {
      "text/plain": [
       "<matplotlib.legend.Legend at 0x7ff00842e470>"
      ]
     },
     "execution_count": 18,
     "metadata": {},
     "output_type": "execute_result"
    },
    {
     "data": {
      "image/png": "[encoded data removed]",
      "text/plain": [
       "<Figure size 1080x720 with 1 Axes>"
      ]
     },
     "metadata": {
      "needs_background": "light"
     },
     "output_type": "display_data"
    }
   ],
   "source": [
    "fig=pl.figure(figsize(15,10))\n",
    "\n",
    "counts_w = df.date[df.gender == 2].groupby([df.date.dt.weekday]).count()\n",
    "norm_w = 1\n",
    "error_w = np.sqrt(counts_w)\n",
    "ax=((counts_w) / norm_w).plot(kind=\"bar\",color='IndianRed',  yerr=[\n",
    "            ((error_w) / norm_w, (error_w) / norm_w)], label='women bikers')\n",
    "\n",
    "\n",
    "counts_m = df.date[df.gender==1].groupby([df.date.dt.weekday]).count()\n",
    "norm_m = 1\n",
    "error_m=np.sqrt(counts_m)\n",
    "((counts_m) / norm_m).plot(kind=\"bar\", alpha=0.5, yerr=[((error_m) / norm_m, (error_m) / norm_m)], \n",
    "                           color='SteelBlue', label='men bikers')\n",
    "ax.xaxis.set_ticklabels(['Mon','Tue','Wed','Thu','Fri','Sat','Sun'], fontsize=20)\n",
    "ax.set_ylabel (\"Number of rides\")\n",
    "ax.set_xlabel (\"Day of the week\")\n",
    "pl.legend(['women bikers','men bikers'],fontsize=20)\n"
   ]
  },
  {
   "cell_type": "markdown",
   "metadata": {},
   "source": [
    "## Figure 1b: Distribution of Citibike bikers by gender in January 2015, absolute counts, with statistical errors"
   ]
  },
  {
   "cell_type": "markdown",
   "metadata": {},
   "source": [
    "Note: These are absolute numbers. It is very hard to compare absolute numbers. Ratios (or proportions) are more ameable to comparison, so let's _normalize_ the distribution of man, and that of women, i.e. devide them by the total number of rides for that gender. \n",
    "(Notice that i have to normalize the errorbars too!)\n",
    "\n"
   ]
  },
  {
   "cell_type": "code",
   "execution_count": 19,
   "metadata": {},
   "outputs": [
    {
     "data": {
      "text/plain": [
       "<matplotlib.legend.Legend at 0x7ff0083a0e48>"
      ]
     },
     "execution_count": 19,
     "metadata": {},
     "output_type": "execute_result"
    },
    {
     "data": {
      "image/png": "[encoded data removed]",
      "text/plain": [
       "<Figure size 1080x720 with 1 Axes>"
      ]
     },
     "metadata": {
      "needs_background": "light"
     },
     "output_type": "display_data"
    }
   ],
   "source": [
    "fig = pl.figure(figsize(15,10))\n",
    "\n",
    "norm_w = counts_w.sum()\n",
    "error_w = np.sqrt(counts_w)\n",
    "((counts_w) / norm_w).plot(kind=\"bar\", color='IndianRed',  \n",
    "                           yerr=[((error_w) / norm_w, (error_w) / norm_w)], \n",
    "                           label='women bikers')\n",
    "\n",
    "norm_m = counts_m.sum()\n",
    "ax = ((counts_m) / norm_m).plot(kind=\"bar\", alpha=0.5, \n",
    "                                yerr=[((error_m) / norm_m, (error_m) / norm_m)], \n",
    "                                color='SteelBlue', label='men bikers')\n",
    "\n",
    "ax.xaxis.set_ticklabels(['Mon', 'Tue', 'Wed', 'Thu', 'Fri', 'Sat', 'Sun'], fontsize=20)\n",
    "ax.set_ylabel (\"Fraction of rides\")\n",
    "ax.set_xlabel (\"Day of the week\")\n",
    "\n",
    "pl.legend(['women bikers','men bikers'],fontsize=20)\n"
   ]
  },
  {
   "cell_type": "markdown",
   "metadata": {},
   "source": [
    "## Figure 2: Distribution of Citibike bikers by gender in January 2015, normalized"
   ]
  },
  {
   "cell_type": "markdown",
   "metadata": {},
   "source": [
    "we can add up the weekend days and normalize by the totals, then this becomes a test of proportions, (like the one seen in the [employment notebook](https://github.com/fedhere/UInotebooks/blob/master/hypothesistesting/effectivenes%20of%20NYC%20Post-Prison%20Employment%20Programs.save.ipynb))"
   ]
  },
  {
   "cell_type": "markdown",
   "metadata": {},
   "source": [
    "__________________________________________________________________________________________________________________\n",
    "__________________________________________________________________________________________________________________\n",
    "__________________________________________________________________________________________________________________\n",
    "__________________________________________________________________________________________________________________\n",
    "__________________________________________________________________________________________________________________\n",
    "__________________________________________________________________________________________________________________\n",
    "__________________________________________________________________________________________________________________\n",
    "__________________________________________________________________________________________________________________\n",
    "# This is the portion of Assignment 2 that should be done by the week of September 26.  The rest will be due the following week.\n",
    "__________________________________________________________________________________________________________________\n",
    "__________________________________________________________________________________________________________________\n",
    "__________________________________________________________________________________________________________________\n",
    "__________________________________________________________________________________________________________________\n",
    "__________________________________________________________________________________________________________________\n",
    "__________________________________________________________________________________________________________________\n",
    "__________________________________________________________________________________________________________________\n",
    "__________________________________________________________________________________________________________________\n"
   ]
  },
  {
   "cell_type": "markdown",
   "metadata": {},
   "source": [
    "## Set up the test of proportions\n",
    "### I need the fraction of women that bikes during the weekdays and the fraction that bikes during weekends, and the same for men"
   ]
  },
  {
   "cell_type": "code",
   "execution_count": null,
   "metadata": {},
   "outputs": [],
   "source": [
    "fig = pl.figure(figsize(15,6))\n",
    "ax1 = fig.add_subplot(121)\n",
    "ax2 = fig.add_subplot(122)\n",
    "ax1.set_xticks([])\n",
    "ax2.set_xticks([])\n",
    "\n",
    "week_w = sum(counts_w[:-2]) * 1.0 / norm_w  #fraction of women riding on week days\n",
    "weekend_w = sum(counts_w[-2:]) * 1.0 / norm_w  #fraction of women riding on weekends\n",
    "eweek_w = np.sqrt(sum(error_w[:-2]**2)) / norm_w  #error on fraction number of women riding on week days\n",
    "eweekend_w = np.sqrt(sum(error_w[-2:]**2)) / norm_w #error on fraction number of women riding on weekends\n",
    "\n",
    "#same nomenclature as above\n",
    "week_m = sum(counts_m[:-2]) * 1.0 / norm_m\n",
    "weekend_m = sum(counts_m[-2:]) * 1.0 / norm_m\n",
    "eweek_m = np.sqrt(sum(error_m[:-2]**2)) / norm_m\n",
    "eweekend_m = np.sqrt(sum(error_m[-2:]**2)) / norm_m\n",
    "\n",
    "print(\"Men: week:{0:.3f}, weekend:{1:.3f}, weekend error:{2:.3f}, weekend error:{3:.3f}\"\\\n",
    "      .format(week_m, weekend_m, eweek_m, eweekend_m))\n",
    "print(\"Women: week:{0:.3f}, weekend:{1:.3f}, weekend error:{2:.3f}, weekend error:{3:.3f}\"\\\n",
    "      .format(week_w, weekend_w, eweek_w, eweekend_w))\n",
    "\n",
    "ax1.errorbar([0.4], [week_m], yerr=[eweek_m], fmt='o', label='men')\n",
    "ax1.errorbar([0.2], [week_w], yerr=[eweek_w], fmt='o', label='women')\n",
    "ax1.set_xlim(0, 0.5)\n",
    "ax2.errorbar([0.4], [weekend_m], yerr=[eweekend_m], fmt='o', label='men')\n",
    "ax2.errorbar([0.2], [weekend_w], yerr=[eweekend_w], fmt='o', label='women')\n",
    "ax1.set_xlim(0, 0.5)\n",
    "ax1.set_title(\"week days\")\n",
    "ax2.set_title(\"weekends\")\n",
    "ax2.set_ylabel(\"Fraction of normalized rides by gender\")\n",
    "ax1.set_ylabel(\"Fraction of normalized rides by gender\")\n",
    "\n",
    "pl.xlim(-0.5, 1.5)\n",
    "pl.legend(fontsize = 20)"
   ]
  },
  {
   "cell_type": "markdown",
   "metadata": {},
   "source": [
    "## Figure 3: Fraction of Citibike bikers per gender in January 2016 for week days (left) and weekends (right)"
   ]
  },
  {
   "cell_type": "markdown",
   "metadata": {},
   "source": [
    "### Is the percentage of women that ride on weekends lower or equal to that of man?\n",
    "## The statistics is: \n",
    "# $z = \\frac{(p_0 - p_1)}{SE} $\n",
    "# $p =\\frac{p_0  n_0 + p_1  n_1}{n_0+n_1}$\n",
    "# $SE = \\sqrt{ p  ( 1 - p )  (\\frac{1}{n_0} + \\frac{1}{n_1}) }$\n",
    "## and in this notation \n",
    "# $p_0 = \\frac{W_{\\mathrm{weekend}}}{W_{\\mathrm{total}}}$\n",
    "### and \n",
    "# $p_1 = \\frac{M_{\\mathrm{weekend}}}{M_{\\mathrm{total}}}$\n"
   ]
  },
  {
   "cell_type": "code",
   "execution_count": null,
   "metadata": {},
   "outputs": [],
   "source": [
    "P0mP1 = weekend_w - weekend_m\n",
    "print (\"difference between man and women on weekend: \", P0mP1)\n",
    "if P0mP1 <= 0:\n",
    "    # we are done...\n",
    "    print(\"In accordance with Null Hypothesis\")\n",
    "else:\n",
    "    # morework to do\n",
    "    print (\"We must check the significance before we reject the Null Hypothesis\")"
   ]
  },
  {
   "cell_type": "markdown",
   "metadata": {},
   "source": [
    "### Is this difference statistically significant?"
   ]
  },
  {
   "cell_type": "code",
   "execution_count": null,
   "metadata": {},
   "outputs": [],
   "source": [
    "# defining the functions that calculate the statistics\n",
    "# the lambda style definition is NOT APPROVED BY PEP8 and you should avoind it\n",
    "# but I am putting it here since you may encounter it in your coding life.\n",
    "# confront the equation in the markdown cell above with these function to understand as they work\n",
    "\n",
    "p = lambda p0, p1, n0, n1: (p0 * n0 + p1 * n1) / (n0 + n1)\n",
    "se = lambda p, n0, n1: np.sqrt(p * (1 - p) * (1.0 / n0 + 1.0 / n1)) #standard error\n",
    "zscore = lambda p0, p1, s : (p0 - p1) / s\n",
    "\n",
    "# calculations\n",
    "\n",
    "sp_stdev_mw = se(p(weekend_w, weekend_m, norm_w, norm_m), norm_w, norm_m)\n",
    "# print (sp_stdev_mw)\n",
    "z = zscore(weekend_w, weekend_m, sp_stdev_mw)\n",
    "print (\"The z statistics is %.2f\"%z) "
   ]
  },
  {
   "cell_type": "markdown",
   "metadata": {},
   "source": [
    "## The largest number reported in  z stats tables is (thpically) 3, which gives  a p value\n",
    "## $p <0.0002$, which is smaller then my chosen $\\alpha=0.05$ - so yes, it is statistically significant (by a lot!)"
   ]
  },
  {
   "cell_type": "markdown",
   "metadata": {},
   "source": [
    "# We reject the Null Hypothesis that man are more likely to commute than women $p< 0.05$\n"
   ]
  },
  {
   "cell_type": "markdown",
   "metadata": {},
   "source": [
    "__________________________________________________________________________________________________________________\n",
    "__________________________________________________________________________________________________________________\n",
    "__________________________________________________________________________________________________________________\n",
    "__________________________________________________________________________________________________________________\n",
    "__________________________________________________________________________________________________________________\n",
    "__________________________________________________________________________________________________________________\n",
    "__________________________________________________________________________________________________________________\n",
    "__________________________________________________________________________________________________________________\n",
    "\n",
    "# Check the robustness of your answer with another citibike dataset (unless you used all of the data at once!)\n",
    "\n",
    "## Lets see if our test holds in the summer, when people clothes may get less in the way to riding\n",
    "\n",
    "### notice that it is not very pythonic to just copy and paste code as I am doing here! Everything that needs to be done more than once should be done in a function. Why? Because that way if I make any changes I do not run the risk to forget to make the change in one of the spots! (Also it helps readability)"
   ]
  },
  {
   "cell_type": "code",
   "execution_count": null,
   "metadata": {},
   "outputs": [],
   "source": [
    "datestring = '201506'\n",
    "getCitiBikeCSV(datestring)"
   ]
  },
  {
   "cell_type": "code",
   "execution_count": null,
   "metadata": {},
   "outputs": [],
   "source": [
    "df_06 = pd.read_csv(os.getenv(\"PUIDATA\") + \"/\" + datestring + '-citibike-tripdata.csv')\n",
    "df_06['date'] = pd.to_datetime(df_06.starttime)\n",
    "df_06.head()"
   ]
  },
  {
   "cell_type": "code",
   "execution_count": null,
   "metadata": {},
   "outputs": [],
   "source": [
    "df_06.drop(['tripduration', 'starttime', 'stoptime', 'start station id',\n",
    "       'start station name', 'start station latitude',\n",
    "       'start station longitude', 'end station id', 'end station name',\n",
    "       'end station latitude', 'end station longitude', 'bikeid', 'usertype',\n",
    "       'birth year'], axis=1, inplace=True)\n"
   ]
  },
  {
   "cell_type": "code",
   "execution_count": null,
   "metadata": {},
   "outputs": [],
   "source": [
    "df_06.head()"
   ]
  },
  {
   "cell_type": "code",
   "execution_count": null,
   "metadata": {},
   "outputs": [],
   "source": [
    "fig=pl.figure(figsize(15,10))\n",
    "\n",
    "counts_w06 = df_06.date[df_06.gender == 2].groupby([df_06.date.dt.weekday]).count()\n",
    "norm_w06 = counts_w06.sum()\n",
    "error_w06 = np.sqrt(counts_w06)\n",
    "\n",
    "((counts_w06) / norm_w06).plot(kind=\"bar\",color='IndianRed',  yerr=[\n",
    "            ((error_w06) / norm_w06, (error_w06) / norm_w06)], label='women bikers, June')\n",
    "\n",
    "counts_m06 = df_06.date[df_06.gender==1].groupby([df_06.date.dt.weekday]).count()\n",
    "norm_m06 = counts_m06.sum()\n",
    "error_m06 = np.sqrt(counts_m06)\n",
    "ax=((counts_m06) / norm_m06).plot(kind=\"bar\", alpha=0.5, \n",
    "                                  yerr=[((error_m06) / norm_m06, (error_m06) / norm_m06)], \n",
    "                                  color=\"SteelBlue\", label='men bikers, June')\n",
    "ax.xaxis.set_ticklabels(['Mon','Tue','Wed','Thu','Fri','Sat','Sun'], fontsize=20)\n",
    "ax.set_ylabel (\"Fraction of rides\")\n",
    "ax.set_xlabel (\"Day of the week\")\n",
    "\n",
    "\n",
    "pl.legend(['women bikers','men bikers'],fontsize=20)"
   ]
  },
  {
   "cell_type": "markdown",
   "metadata": {},
   "source": [
    "## Figure 4: Distribution of Citibike bikers by gender in June 2016, normalized"
   ]
  },
  {
   "cell_type": "code",
   "execution_count": null,
   "metadata": {},
   "outputs": [],
   "source": [
    "fig=pl.figure(figsize(15,6))\n",
    "ax1=fig.add_subplot(121)\n",
    "ax2=fig.add_subplot(122)\n",
    "ax1.set_xticks([])\n",
    "ax2.set_xticks([])\n",
    "\n",
    "week_w06 = sum(counts_w06[:-2]) * 1.0 / norm_w06\n",
    "weekend_w06 = sum(counts_w06[-2:])*1.0 / norm_w06\n",
    "eweek_w06 = np.sqrt(sum(error_w06[:-2]**2)) / norm_w06\n",
    "eweekend_w06 = np.sqrt(sum(error_w06[-2:]**2)) / norm_w06\n",
    "\n",
    "week_m06 = sum(counts_m06[:-2]) * 1.0 / norm_m06\n",
    "weekend_m06 = sum(counts_m06[-2:]) * 1.0 / norm_m06\n",
    "eweek_m06 = np.sqrt(sum(error_m06[:-2]**2)) / norm_m06\n",
    "eweekend_m06 = np.sqrt(sum(error_m06[-2:]**2)) / norm_m06\n",
    "\n",
    "print(\"Men: week:{0:.3f}, weekend:{1:.3f}, weekend error:{2:.3f}, weekend error:{3:.3f}\"\\\n",
    "      .format(week_m06, weekend_m06, eweek_m06, eweekend_m06))\n",
    "print(\"Women: week:{0:.3f}, weekend:{1:.3f}, weekend error:{2:.3f}, weekend error:{3:.3f}\"\\\n",
    "      .format(week_w06, weekend_w06, eweek_w06, eweekend_w06))\n",
    "\n",
    "ax1.errorbar([0.2],[week_w06], yerr=[eweek_w06], fmt='o', label='women')\n",
    "ax1.errorbar([0.4],[week_m06], yerr=[eweek_m06], fmt='o', label='men')\n",
    "ax1.set_xlim(0,0.5)\n",
    "ax2.errorbar([0.2],[weekend_w06], yerr=[eweekend_w06], fmt='o', label='women')\n",
    "ax2.errorbar([0.4],[weekend_m06], yerr=[eweekend_m06], fmt='o', label='men')\n",
    "ax1.set_xlim(0,0.5)\n",
    "ax1.set_title(\"week days\")\n",
    "ax2.set_title(\"weekends\")\n",
    "ax2.set_ylabel(\"Fraction of normalized rides by gender\")\n",
    "ax1.set_ylabel(\"Fraction of normalized rides by gender\")\n",
    "\n",
    "pl.xlim(-0.5,1.5)\n",
    "pl.legend(fontsize=20)\n",
    "\n",
    "\n",
    "sp_stdev_mw06 = se(p(weekend_w06, weekend_m06, norm_w06, norm_m06), norm_w06, norm_m06)\n",
    "# print (sp_stdev_mw)\n",
    "z06 = zscore(weekend_w06, weekend_m06, sp_stdev_mw06)\n",
    "print (\"The z statistics is %.2f\"%z) "
   ]
  },
  {
   "cell_type": "markdown",
   "metadata": {
    "collapsed": true
   },
   "source": [
    "## The z statstic is even larger in the Summer! Larger z means farther into the significance reagion\n",
    "# We reject the Null Hypothesis that man are more likely to commute than women $p< 0.05$ in the summer aswell, \n",
    "# and my hypothesis is robust to seasonality\n"
   ]
  },
  {
   "cell_type": "markdown",
   "metadata": {},
   "source": [
    "# BUT inreality ... there are many moreriders in the summer, \n",
    "# so the increase in statistical significance may not be due to a larger effect, but not to a larger effect.\n",
    "# Let's check the _effect size_: \n",
    "# there are 2 formulae I find in the literature\n",
    "# $r = \\frac{z}{\\sqrt{(n_0+n_1)}}$\n",
    "# and\n",
    "# $h =  2 (\\arcsin \\sqrt{p_0} -  \\arcsin \\sqrt{p_1} )$. https://en.wikipedia.org/wiki/Cohen%27s_h"
   ]
  },
  {
   "cell_type": "code",
   "execution_count": null,
   "metadata": {},
   "outputs": [],
   "source": [
    "r = lambda z, n0, n1 : z / np.sqrt(n0+n0)\n",
    "h = lambda p0, p1: 2 * (np.arcsin(np.sqrt(p0)) - np.arcsin(np.sqrt(p1)))"
   ]
  },
  {
   "cell_type": "code",
   "execution_count": null,
   "metadata": {},
   "outputs": [],
   "source": [
    "r01 = r(z, norm_w, norm_m)\n",
    "r06 = r(z06, norm_w06, norm_m06)\n",
    "print (r01, r06)"
   ]
  },
  {
   "cell_type": "code",
   "execution_count": null,
   "metadata": {},
   "outputs": [],
   "source": [
    "h01 = h(weekend_w, weekend_m)\n",
    "h06 = h(weekend_w06, weekend_m06)\n",
    "print (h01, h06)"
   ]
  },
  {
   "cell_type": "markdown",
   "metadata": {},
   "source": [
    "# In all these cases we have SMALL EFFECT SIZE, and in both cases slightly smaller for the summer data (although the statistiocal significance is slightly higher)"
   ]
  },
  {
   "cell_type": "code",
   "execution_count": 20,
   "metadata": {},
   "outputs": [
    {
     "data": {
      "text/plain": [
       "960"
      ]
     },
     "execution_count": 20,
     "metadata": {},
     "output_type": "execute_result"
    }
   ],
   "source": [
    "16*60"
   ]
  },
  {
   "cell_type": "code",
   "execution_count": null,
   "metadata": {},
   "outputs": [],
   "source": []
  }
 ],
 "metadata": {
  "anaconda-cloud": {},
  "kernelspec": {
   "display_name": "Python 3",
   "language": "python",
   "name": "python3"
  },
  "language_info": {
   "codemirror_mode": {
    "name": "ipython",
    "version": 3
   },
   "file_extension": ".py",
   "mimetype": "text/x-python",
   "name": "python",
   "nbconvert_exporter": "python",
   "pygments_lexer": "ipython3",
   "version": "3.7.0"
  }
 },
 "nbformat": 4,
 "nbformat_minor": 1
}
