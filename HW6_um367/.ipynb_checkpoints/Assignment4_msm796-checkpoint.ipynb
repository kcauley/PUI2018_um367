{
 "cells": [
  {
   "cell_type": "markdown",
   "metadata": {},
   "source": [
    "### import libraries and other helper functions"
   ]
  },
  {
   "cell_type": "code",
   "execution_count": 1,
   "metadata": {},
   "outputs": [],
   "source": [
    "#/home/pui_user/PUI2018_msm796/HW4_msm796\n",
    "#declare libraries\n",
    "try:\n",
    "    import urllib2 as urllib\n",
    "except ImportError:\n",
    "    import urllib.request as urllib\n",
    "import datetime\n",
    "from dateutil.relativedelta import relativedelta #DOWNLOAD THIS PACKAGE#\n",
    "import os\n",
    "import requests #DOWNLOAD THIS PACKAGE#\n",
    "import zipfile #DOWNLOAD THIS PACKAGE#\n",
    "import io #DOWNLOAD THIS PACKAGE#\n",
    "import pandas as pd\n",
    "%matplotlib inline\n",
    "import matplotlib\n",
    "import numpy as np\n",
    "import matplotlib.pyplot as plt\n",
    "import subprocess as sp\n",
    "import os\n",
    "import time\n",
    "import pylab as pl\n",
    "import scipy.stats\n",
    "from shapely.geometry import Point\n",
    "import geopandas as gpd\n",
    "import random\n",
    "    \n",
    "#declare parameters\n",
    "puidata = os.getenv(\"PUIDATA\")\n",
    "if puidata is None:\n",
    "    os.environ[\"PUIDATA\"] = \"%s/PUIdata\"%os.getenv(\"HOME\")\n",
    "    puidata = os.getenv(\"PUIDATA\")\n",
    "\n",
    "random.seed(777)\n",
    "\n",
    "#declare helper functions\n",
    "def download_citibike_data(yearstart,yearend,monthstart,monthend,output_path):\n",
    "    '''\n",
    "    change log:\n",
    "    \n",
    "    version 1.0 - Downloads citibike datasets zip files and unzips them. does checking if file already\n",
    "    exists in path. currently has no input error handling logic.\n",
    "    ---------------------------------------------------------------------------------------------\n",
    "    Parameters:\n",
    "    name - type - description\n",
    "    yearstart - <int> - refers to the year where you want your download to start\n",
    "    yearend - <int> - refers to the year where you want your download to start\n",
    "    monthstart - <int> - refers to the month ssociated with yearstart where you want your download to start\n",
    "    monthend - <int> - refers to the month associated with yearend where you want your download to start\n",
    "    outputpath - <str> - refers to location where you want to dump the csv files\n",
    "    \n",
    "    example usage:\n",
    "    download_citibike_data(2013,2018,6,8,puidata)\n",
    "    - this downloads the citibike datasets from June 2013 to August 2018. Files will be unzipped at\n",
    "    the puidata location.\n",
    "    \n",
    "    required libraries:\n",
    "    datautil - required for year & month generation\n",
    "    requests - for downloading the zip file\n",
    "    zipfile - to unzip the file\n",
    "    io - to read binary data and give it to zipfile; effectly keeping the entire process in memory\n",
    "    '''\n",
    "    #might include in error handling in the future for incorrect input\n",
    "    curr_date = start_date=datetime.datetime(yearstart,monthstart,1).date()\n",
    "    end_date=datetime.datetime(yearend,monthend,1).date()\n",
    "    year_month=[start_date.strftime('%Y%m')]\n",
    "    base_citi_url='https://s3.amazonaws.com/tripdata/'\n",
    "    while curr_date < end_date:\n",
    "        curr_date += relativedelta(months=1)\n",
    "        year_month.append(curr_date.strftime('%Y%m'))\n",
    "    for x in year_month:\n",
    "    #need to change logic as csv filename convention isn't done properly#\n",
    "    #will just base on dates found in directory#\n",
    "        filename=x+\"-citibike-tripdata.csv\"\n",
    "        if os.path.isfile(output_path+\"/\"+filename)==True:\n",
    "            print(\"{} already exists!\".format(filename))\n",
    "        else:\n",
    "            print(\"Downloading {}\".format(filename))\n",
    "            year=int(x[:4])\n",
    "            if year>=2017:\n",
    "                ending=\".csv.zip\"\n",
    "            else:\n",
    "                ending=\".zip\"\n",
    "            url=base_citi_url+x+\"-citibike-tripdata\"+ending\n",
    "            r = requests.get(url, stream=True)\n",
    "            z = zipfile.ZipFile(io.BytesIO(r.content))\n",
    "            z.extractall(output_path)\n",
    "            \n",
    "def append_all_citi_bike_data(input_path):\n",
    "    '''\n",
    "    developer's notes:\n",
    "    please refactor me! thanks!\n",
    "    change log:\n",
    "    \n",
    "    version 1.0 -currently has no input error handling logic or checking if file exists.\n",
    "\n",
    "    Parameters:\n",
    "    name - type - description\n",
    "    \n",
    "    input_path - <str> - location where the csv files are stored\n",
    "    -Naively appends all files into one superfile\n",
    "    \n",
    "    required libraries:\n",
    "    pandas - the output will be a dataframe, also used to load the files\n",
    "    '''\n",
    "    #currently implementing\n",
    "    files_directory=os.listdir(input_path)\n",
    "    csv_files = [x for x in files_directory if (\".csv\" in x) & ((\"citi\" in x) | (\"Citi\" in x))]\n",
    "    super_csv = pd.concat([pd.io.parsers.read_csv(input_path+\"/\"+f,engine='c',memory_map=True,low_memory='dtype') for f in csv_files])\n",
    "    return super_csv"
   ]
  },
  {
   "cell_type": "markdown",
   "metadata": {},
   "source": [
    "### I get 2018 August and September citibike datasets"
   ]
  },
  {
   "cell_type": "code",
   "execution_count": 2,
   "metadata": {},
   "outputs": [
    {
     "name": "stdout",
     "output_type": "stream",
     "text": [
      "201808-citibike-tripdata.csv already exists!\n",
      "201809-citibike-tripdata.csv already exists!\n"
     ]
    }
   ],
   "source": [
    "#downloads from beginning to latest available as of late September\n",
    "download_citibike_data(2018,2018,8,9,puidata)\n",
    "complete_set=append_all_citi_bike_data(puidata)"
   ]
  },
  {
   "cell_type": "markdown",
   "metadata": {},
   "source": [
    "### Displaying the first five rows of the dataset"
   ]
  },
  {
   "cell_type": "code",
   "execution_count": 3,
   "metadata": {},
   "outputs": [
    {
     "data": {
      "text/html": [
       "<div>\n",
       "<table border=\"1\" class=\"dataframe\">\n",
       "  <thead>\n",
       "    <tr style=\"text-align: right;\">\n",
       "      <th></th>\n",
       "      <th>tripduration</th>\n",
       "      <th>starttime</th>\n",
       "      <th>stoptime</th>\n",
       "      <th>start station id</th>\n",
       "      <th>start station name</th>\n",
       "      <th>start station latitude</th>\n",
       "      <th>start station longitude</th>\n",
       "      <th>end station id</th>\n",
       "      <th>end station name</th>\n",
       "      <th>end station latitude</th>\n",
       "      <th>end station longitude</th>\n",
       "      <th>bikeid</th>\n",
       "      <th>usertype</th>\n",
       "      <th>birth year</th>\n",
       "      <th>gender</th>\n",
       "    </tr>\n",
       "  </thead>\n",
       "  <tbody>\n",
       "    <tr>\n",
       "      <th>0</th>\n",
       "      <td>681</td>\n",
       "      <td>2018-08-01 00:00:07.3210</td>\n",
       "      <td>2018-08-01 00:11:28.9920</td>\n",
       "      <td>3162.0</td>\n",
       "      <td>W 78 St &amp; Broadway</td>\n",
       "      <td>40.783400</td>\n",
       "      <td>-73.980931</td>\n",
       "      <td>3383.0</td>\n",
       "      <td>Cathedral Pkwy &amp; Broadway</td>\n",
       "      <td>40.804213</td>\n",
       "      <td>-73.966991</td>\n",
       "      <td>27770</td>\n",
       "      <td>Subscriber</td>\n",
       "      <td>1986</td>\n",
       "      <td>1</td>\n",
       "    </tr>\n",
       "    <tr>\n",
       "      <th>1</th>\n",
       "      <td>625</td>\n",
       "      <td>2018-08-01 00:00:19.7480</td>\n",
       "      <td>2018-08-01 00:10:45.0290</td>\n",
       "      <td>3260.0</td>\n",
       "      <td>Mercer St &amp; Bleecker St</td>\n",
       "      <td>40.727064</td>\n",
       "      <td>-73.996621</td>\n",
       "      <td>2012.0</td>\n",
       "      <td>E 27 St &amp; 1 Ave</td>\n",
       "      <td>40.739445</td>\n",
       "      <td>-73.976806</td>\n",
       "      <td>25938</td>\n",
       "      <td>Subscriber</td>\n",
       "      <td>1969</td>\n",
       "      <td>1</td>\n",
       "    </tr>\n",
       "    <tr>\n",
       "      <th>2</th>\n",
       "      <td>1319</td>\n",
       "      <td>2018-08-01 00:00:21.1750</td>\n",
       "      <td>2018-08-01 00:22:20.6370</td>\n",
       "      <td>403.0</td>\n",
       "      <td>E 2 St &amp; 2 Ave</td>\n",
       "      <td>40.725029</td>\n",
       "      <td>-73.990697</td>\n",
       "      <td>285.0</td>\n",
       "      <td>Broadway &amp; E 14 St</td>\n",
       "      <td>40.734546</td>\n",
       "      <td>-73.990741</td>\n",
       "      <td>28679</td>\n",
       "      <td>Subscriber</td>\n",
       "      <td>1970</td>\n",
       "      <td>1</td>\n",
       "    </tr>\n",
       "    <tr>\n",
       "      <th>3</th>\n",
       "      <td>220</td>\n",
       "      <td>2018-08-01 00:00:26.4700</td>\n",
       "      <td>2018-08-01 00:04:06.8190</td>\n",
       "      <td>3637.0</td>\n",
       "      <td>Fulton St &amp; Waverly Ave</td>\n",
       "      <td>40.683239</td>\n",
       "      <td>-73.965996</td>\n",
       "      <td>399.0</td>\n",
       "      <td>Lafayette Ave &amp; St James Pl</td>\n",
       "      <td>40.688515</td>\n",
       "      <td>-73.964763</td>\n",
       "      <td>28075</td>\n",
       "      <td>Subscriber</td>\n",
       "      <td>1982</td>\n",
       "      <td>1</td>\n",
       "    </tr>\n",
       "    <tr>\n",
       "      <th>4</th>\n",
       "      <td>398</td>\n",
       "      <td>2018-08-01 00:00:30.2910</td>\n",
       "      <td>2018-08-01 00:07:09.2810</td>\n",
       "      <td>3662.0</td>\n",
       "      <td>31 Ave &amp; Steinway St</td>\n",
       "      <td>40.761294</td>\n",
       "      <td>-73.916917</td>\n",
       "      <td>3517.0</td>\n",
       "      <td>31 St &amp; Hoyt Ave N</td>\n",
       "      <td>40.771153</td>\n",
       "      <td>-73.917007</td>\n",
       "      <td>25002</td>\n",
       "      <td>Subscriber</td>\n",
       "      <td>1987</td>\n",
       "      <td>1</td>\n",
       "    </tr>\n",
       "  </tbody>\n",
       "</table>\n",
       "</div>"
      ],
      "text/plain": [
       "   tripduration                 starttime                  stoptime  \\\n",
       "0           681  2018-08-01 00:00:07.3210  2018-08-01 00:11:28.9920   \n",
       "1           625  2018-08-01 00:00:19.7480  2018-08-01 00:10:45.0290   \n",
       "2          1319  2018-08-01 00:00:21.1750  2018-08-01 00:22:20.6370   \n",
       "3           220  2018-08-01 00:00:26.4700  2018-08-01 00:04:06.8190   \n",
       "4           398  2018-08-01 00:00:30.2910  2018-08-01 00:07:09.2810   \n",
       "\n",
       "   start station id       start station name  start station latitude  \\\n",
       "0            3162.0       W 78 St & Broadway               40.783400   \n",
       "1            3260.0  Mercer St & Bleecker St               40.727064   \n",
       "2             403.0           E 2 St & 2 Ave               40.725029   \n",
       "3            3637.0  Fulton St & Waverly Ave               40.683239   \n",
       "4            3662.0     31 Ave & Steinway St               40.761294   \n",
       "\n",
       "   start station longitude  end station id             end station name  \\\n",
       "0               -73.980931          3383.0    Cathedral Pkwy & Broadway   \n",
       "1               -73.996621          2012.0              E 27 St & 1 Ave   \n",
       "2               -73.990697           285.0           Broadway & E 14 St   \n",
       "3               -73.965996           399.0  Lafayette Ave & St James Pl   \n",
       "4               -73.916917          3517.0           31 St & Hoyt Ave N   \n",
       "\n",
       "   end station latitude  end station longitude  bikeid    usertype  \\\n",
       "0             40.804213             -73.966991   27770  Subscriber   \n",
       "1             40.739445             -73.976806   25938  Subscriber   \n",
       "2             40.734546             -73.990741   28679  Subscriber   \n",
       "3             40.688515             -73.964763   28075  Subscriber   \n",
       "4             40.771153             -73.917007   25002  Subscriber   \n",
       "\n",
       "   birth year  gender  \n",
       "0        1986       1  \n",
       "1        1969       1  \n",
       "2        1970       1  \n",
       "3        1982       1  \n",
       "4        1987       1  "
      ]
     },
     "execution_count": 3,
     "metadata": {},
     "output_type": "execute_result"
    }
   ],
   "source": [
    "complete_set.head()"
   ]
  },
  {
   "cell_type": "markdown",
   "metadata": {},
   "source": [
    "### For this assignment, i set signifiance level to $\\alpha = 0.05$"
   ]
  },
  {
   "cell_type": "markdown",
   "metadata": {},
   "source": [
    "## 1. Trip duration of bikers that ride during the day vs night\n",
    "\n",
    "##### for this question, i create a new dataframe with only the necessary columns required to answer this question. In this question we use starttime as our basis for day/night time"
   ]
  },
  {
   "cell_type": "code",
   "execution_count": 4,
   "metadata": {},
   "outputs": [],
   "source": [
    "drop_cols=[x for x in complete_set.columns.get_values() if x not in ['starttime','tripduration']]\n",
    "day_night=complete_set.drop(drop_cols,axis=1)"
   ]
  },
  {
   "cell_type": "markdown",
   "metadata": {},
   "source": [
    "### Displaying the first five rows of the new dataset"
   ]
  },
  {
   "cell_type": "code",
   "execution_count": 5,
   "metadata": {},
   "outputs": [
    {
     "data": {
      "text/html": [
       "<div>\n",
       "<table border=\"1\" class=\"dataframe\">\n",
       "  <thead>\n",
       "    <tr style=\"text-align: right;\">\n",
       "      <th></th>\n",
       "      <th>tripduration</th>\n",
       "      <th>starttime</th>\n",
       "    </tr>\n",
       "  </thead>\n",
       "  <tbody>\n",
       "    <tr>\n",
       "      <th>0</th>\n",
       "      <td>681</td>\n",
       "      <td>2018-08-01 00:00:07.3210</td>\n",
       "    </tr>\n",
       "    <tr>\n",
       "      <th>1</th>\n",
       "      <td>625</td>\n",
       "      <td>2018-08-01 00:00:19.7480</td>\n",
       "    </tr>\n",
       "    <tr>\n",
       "      <th>2</th>\n",
       "      <td>1319</td>\n",
       "      <td>2018-08-01 00:00:21.1750</td>\n",
       "    </tr>\n",
       "    <tr>\n",
       "      <th>3</th>\n",
       "      <td>220</td>\n",
       "      <td>2018-08-01 00:00:26.4700</td>\n",
       "    </tr>\n",
       "    <tr>\n",
       "      <th>4</th>\n",
       "      <td>398</td>\n",
       "      <td>2018-08-01 00:00:30.2910</td>\n",
       "    </tr>\n",
       "  </tbody>\n",
       "</table>\n",
       "</div>"
      ],
      "text/plain": [
       "   tripduration                 starttime\n",
       "0           681  2018-08-01 00:00:07.3210\n",
       "1           625  2018-08-01 00:00:19.7480\n",
       "2          1319  2018-08-01 00:00:21.1750\n",
       "3           220  2018-08-01 00:00:26.4700\n",
       "4           398  2018-08-01 00:00:30.2910"
      ]
     },
     "execution_count": 5,
     "metadata": {},
     "output_type": "execute_result"
    }
   ],
   "source": [
    "day_night.head()"
   ]
  },
  {
   "cell_type": "markdown",
   "metadata": {},
   "source": [
    "### Now i create a number of fields that will assist me in my analysis"
   ]
  },
  {
   "cell_type": "code",
   "execution_count": 6,
   "metadata": {},
   "outputs": [],
   "source": [
    "day_night['start_time_of_day'] = day_night['starttime'].apply(lambda x : datetime.datetime.strptime(x, \"%Y-%m-%d %H:%M:%S.%f\")).apply(lambda x: x.strftime('%p'))\n",
    "#day_night['stop_time_of_day'] = day_night['stoptime'].apply(lambda x : datetime.datetime.strptime(x, \"%Y-%m-%d %H:%M:%S.%f\")).apply(lambda x: x.strftime('%p'))\n",
    "day_night['start_day'] = day_night['starttime'].apply(lambda x : datetime.datetime.strptime(x, \"%Y-%m-%d %H:%M:%S.%f\")).apply(lambda x: x.strftime('%-d')).astype(int)\n",
    "day_night['start_hour'] = day_night['starttime'].apply(lambda x : datetime.datetime.strptime(x, \"%Y-%m-%d %H:%M:%S.%f\")).apply(lambda x: x.strftime('%-H')).astype(int)\n",
    "#day_night['stop_hour'] = day_night['stoptime'].apply(lambda x : datetime.datetime.strptime(x, \"%Y-%m-%d %H:%M:%S.%f\")).apply(lambda x: x.strftime('%-H')).astype(int)\n",
    "day_night['start_month'] = day_night['starttime'].apply(lambda x : datetime.datetime.strptime(x, \"%Y-%m-%d %H:%M:%S.%f\")).apply(lambda x: x.strftime('%-m')).astype(int)\n",
    "#day_night['stop_month'] = day_night['stoptime'].apply(lambda x : datetime.datetime.strptime(x, \"%Y-%m-%d %H:%M:%S.%f\")).apply(lambda x: x.strftime('%-m')).astype(int)"
   ]
  },
  {
   "cell_type": "code",
   "execution_count": 7,
   "metadata": {},
   "outputs": [
    {
     "data": {
      "text/html": [
       "<div>\n",
       "<table border=\"1\" class=\"dataframe\">\n",
       "  <thead>\n",
       "    <tr style=\"text-align: right;\">\n",
       "      <th></th>\n",
       "      <th>tripduration</th>\n",
       "      <th>starttime</th>\n",
       "      <th>start_time_of_day</th>\n",
       "      <th>start_day</th>\n",
       "      <th>start_hour</th>\n",
       "      <th>start_month</th>\n",
       "    </tr>\n",
       "  </thead>\n",
       "  <tbody>\n",
       "    <tr>\n",
       "      <th>0</th>\n",
       "      <td>681</td>\n",
       "      <td>2018-08-01 00:00:07.3210</td>\n",
       "      <td>AM</td>\n",
       "      <td>1</td>\n",
       "      <td>0</td>\n",
       "      <td>8</td>\n",
       "    </tr>\n",
       "    <tr>\n",
       "      <th>1</th>\n",
       "      <td>625</td>\n",
       "      <td>2018-08-01 00:00:19.7480</td>\n",
       "      <td>AM</td>\n",
       "      <td>1</td>\n",
       "      <td>0</td>\n",
       "      <td>8</td>\n",
       "    </tr>\n",
       "    <tr>\n",
       "      <th>2</th>\n",
       "      <td>1319</td>\n",
       "      <td>2018-08-01 00:00:21.1750</td>\n",
       "      <td>AM</td>\n",
       "      <td>1</td>\n",
       "      <td>0</td>\n",
       "      <td>8</td>\n",
       "    </tr>\n",
       "    <tr>\n",
       "      <th>3</th>\n",
       "      <td>220</td>\n",
       "      <td>2018-08-01 00:00:26.4700</td>\n",
       "      <td>AM</td>\n",
       "      <td>1</td>\n",
       "      <td>0</td>\n",
       "      <td>8</td>\n",
       "    </tr>\n",
       "    <tr>\n",
       "      <th>4</th>\n",
       "      <td>398</td>\n",
       "      <td>2018-08-01 00:00:30.2910</td>\n",
       "      <td>AM</td>\n",
       "      <td>1</td>\n",
       "      <td>0</td>\n",
       "      <td>8</td>\n",
       "    </tr>\n",
       "  </tbody>\n",
       "</table>\n",
       "</div>"
      ],
      "text/plain": [
       "   tripduration                 starttime start_time_of_day  start_day  \\\n",
       "0           681  2018-08-01 00:00:07.3210                AM          1   \n",
       "1           625  2018-08-01 00:00:19.7480                AM          1   \n",
       "2          1319  2018-08-01 00:00:21.1750                AM          1   \n",
       "3           220  2018-08-01 00:00:26.4700                AM          1   \n",
       "4           398  2018-08-01 00:00:30.2910                AM          1   \n",
       "\n",
       "   start_hour  start_month  \n",
       "0           0            8  \n",
       "1           0            8  \n",
       "2           0            8  \n",
       "3           0            8  \n",
       "4           0            8  "
      ]
     },
     "execution_count": 7,
     "metadata": {},
     "output_type": "execute_result"
    }
   ],
   "source": [
    "day_night.head()"
   ]
  },
  {
   "cell_type": "markdown",
   "metadata": {},
   "source": [
    "### Since the question is asking if there is a difference between day time and night time, i have to set a rule that differentiates the time of the day. I will base this on the sunrise and sunset back in 2016 August and 2016 September. However as a limitation, i will arbitarily base the threshold for dates from observed values and assume these events happen at the start of a particular hour.\n",
    "\n",
    "https://www.timeanddate.com/sun/usa/new-york?month=8&year=2016\n",
    "\n",
    "<b>For August 2016</b>, <br> Sunrise: 6:00 <br> Sunset: 20:00 <br>\n",
    "Thus Day time: 6:00 - 19:59, and Night time: 20:00 - 5:59 <br>\n",
    "<b>For September 2016</b>, <br>Sunrise: 6:00 <br>  Sunset: 19:00 <br>\n",
    "Thus Day time: 6:00 - 18:59, and Night time: 19:00 - 5:59 "
   ]
  },
  {
   "cell_type": "code",
   "execution_count": 8,
   "metadata": {},
   "outputs": [],
   "source": [
    "cond01=6<=day_night['start_hour']\n",
    "cond02=6<=day_night['start_hour']\n",
    "#cond03=6<=day_night['stop_hour']\n",
    "#cond04=6<=day_night['stop_hour']\n",
    "cond1=day_night['start_hour']<20\n",
    "cond2=day_night['start_hour']<19\n",
    "#cond3=day_night['stop_hour']<20\n",
    "#cond4=day_night['stop_hour']<19\n",
    "cond5=day_night['start_month']==8 \n",
    "cond6=day_night['start_month']==9\n",
    "#cond7=day_night['stop_month']==8 \n",
    "#cond8=day_night['stop_month']==9\n",
    "\n",
    "day_night['day_v_night_start'] = np.where(\n",
    "                                        np.logical_or(\n",
    "                                        np.logical_and( cond5, np.logical_and(cond01, cond1) ),\n",
    "                                        np.logical_and( cond6, np.logical_and(cond02, cond2) )\n",
    "                                                      ),'Day time', 'Night time')\n",
    "#day_night['day_v_night_stop'] = np.where(\n",
    "#                                        np.logical_or(\n",
    "#                                        np.logical_and( cond7, np.logical_and(cond03, cond3) ),\n",
    "#                                        np.logical_and( cond8, np.logical_and(cond04, cond4) )\n",
    "#                                                      ),'Day time', 'Night time')"
   ]
  },
  {
   "cell_type": "markdown",
   "metadata": {},
   "source": [
    "### We now seperate the dataset based on their subgrouping and compare their distribution. We also drop rows with NA duration should there exists."
   ]
  },
  {
   "cell_type": "code",
   "execution_count": 9,
   "metadata": {},
   "outputs": [
    {
     "name": "stderr",
     "output_type": "stream",
     "text": [
      "/usr/local/Anaconda3-5.0.0-Linux-x86_64/envs/PUI2016_Python3/lib/python3.5/site-packages/ipykernel/__main__.py:4: SettingWithCopyWarning: \n",
      "A value is trying to be set on a copy of a slice from a DataFrame\n",
      "\n",
      "See the caveats in the documentation: http://pandas.pydata.org/pandas-docs/stable/indexing.html#indexing-view-versus-copy\n",
      "/usr/local/Anaconda3-5.0.0-Linux-x86_64/envs/PUI2016_Python3/lib/python3.5/site-packages/ipykernel/__main__.py:5: SettingWithCopyWarning: \n",
      "A value is trying to be set on a copy of a slice from a DataFrame\n",
      "\n",
      "See the caveats in the documentation: http://pandas.pydata.org/pandas-docs/stable/indexing.html#indexing-view-versus-copy\n"
     ]
    },
    {
     "data": {
      "image/png": "[encoded data removed]",
      "text/plain": [
       "<matplotlib.figure.Figure at 0x7f3d3429f908>"
      ]
     },
     "metadata": {},
     "output_type": "display_data"
    },
    {
     "data": {
      "image/png": "[encoded data removed]",
      "text/plain": [
       "<matplotlib.figure.Figure at 0x7f3cfc96a438>"
      ]
     },
     "metadata": {},
     "output_type": "display_data"
    }
   ],
   "source": [
    "day_ = day_night[(day_night['day_v_night_start']=='Day time')]\n",
    "night_ = day_night[(day_night['day_v_night_start']=='Night time')]\n",
    "\n",
    "day_.dropna(inplace=True)\n",
    "night_.dropna(inplace=True)\n",
    "\n",
    "#day time\n",
    "day_.hist('tripduration',bins=10,figsize=(20,10))\n",
    "plt.xlabel(\"Trip Duration\",fontsize=18)\n",
    "plt.ylabel(\"Count\",fontsize=18)\n",
    "plt.title(\"Histogram of the trip duration for Day time rides\",fontsize=18)\n",
    "\n",
    "#night time\n",
    "night_.hist('tripduration',bins=10,figsize=(20,10))\n",
    "plt.xlabel(\"Trip Duration\",fontsize=18)\n",
    "plt.ylabel(\"Count\",fontsize=18)\n",
    "plt.title(\"Histogram of the trip duration for Night time rides\",fontsize=18)\n",
    "\n",
    "plt.show()"
   ]
  },
  {
   "cell_type": "markdown",
   "metadata": {},
   "source": [
    "### Figure 1 & 2: The histogram of the trip duration of both Day and Night time Ride. I had left the binning to automatic and we get a visualization that should hint for heavy outliers affecting our graph.\n",
    "\n",
    "### Our next interest would be looking into their respective summary statistics"
   ]
  },
  {
   "cell_type": "code",
   "execution_count": 10,
   "metadata": {},
   "outputs": [
    {
     "data": {
      "text/plain": [
       "<matplotlib.axes._subplots.AxesSubplot at 0x7f3d34222e10>"
      ]
     },
     "execution_count": 10,
     "metadata": {},
     "output_type": "execute_result"
    },
    {
     "data": {
      "image/png": "[encoded data removed]",
      "text/plain": [
       "<matplotlib.figure.Figure at 0x7f3d34222780>"
      ]
     },
     "metadata": {},
     "output_type": "display_data"
    }
   ],
   "source": [
    "day_night[['tripduration','day_v_night_start']].boxplot(by='day_v_night_start', figsize=(20,10))\n",
    "#plt.xlabel(\"Trip Duration\",fontsize=18)\n",
    "#plt.ylabel(\"Count\",fontsize=18)\n",
    "#plt.title(\"Histogram of the trip duration for Night time rides\",fontsize=18)                                                                                                           "
   ]
  },
  {
   "cell_type": "markdown",
   "metadata": {},
   "source": [
    "### Figure 3: Box plot of our trip duration. The graph doesn't even show a box due to the vast number of outliers. As shown by the black circles."
   ]
  },
  {
   "cell_type": "code",
   "execution_count": null,
   "metadata": {},
   "outputs": [],
   "source": [
    "centiles = np.arange(0, 1, 0.25)\n",
    "print(centiles)\n",
    "\n",
    "results_day = day_.tripduration.quantile(centiles)\n",
    "results_night = night_.tripduration.quantile(centiles)\n",
    "\n",
    "print(\"quantile of daytime: \\n{}\".format(results_day))\n",
    "print(\"\\n\")\n",
    "print(\"quantile of nighttime: \\n{}\".format(results_night))\n",
    "\n",
    "centiles = np.arange(0.75, 1, 0.1)\n",
    "print(centiles)\n",
    "\n",
    "results_day = day_.tripduration.quantile(centiles)\n",
    "results_night = night_.tripduration.quantile(centiles)\n",
    "\n",
    "print(\"quantile of daytime: \\n{}\".format(results_day))\n",
    "print(\"\\n\")\n",
    "print(\"quantile of nighttime: \\n{}\".format(results_night))"
   ]
  },
  {
   "cell_type": "markdown",
   "metadata": {},
   "source": [
    "### From here i attempt to identify where outliers start to show up based for quartile information. However it seems that "
   ]
  },
  {
   "cell_type": "code",
   "execution_count": 12,
   "metadata": {},
   "outputs": [
    {
     "name": "stdout",
     "output_type": "stream",
     "text": [
      "[ 0.95    0.9515  0.953   0.9545  0.956   0.9575  0.959   0.9605  0.962\n",
      "  0.9635  0.965   0.9665  0.968   0.9695  0.971   0.9725  0.974   0.9755\n",
      "  0.977   0.9785  0.98    0.9815  0.983   0.9845  0.986   0.9875  0.989\n",
      "  0.9905  0.992   0.9935  0.995   0.9965  0.998   0.9995]\n"
     ]
    },
    {
     "data": {
      "text/plain": [
       "Text(0.5,1,'Percentile distribution of counts for Night time rides')"
      ]
     },
     "execution_count": 12,
     "metadata": {},
     "output_type": "execute_result"
    },
    {
     "data": {
      "image/png": "[encoded data removed]",
      "text/plain": [
       "<matplotlib.figure.Figure at 0x7f3cfc896d30>"
      ]
     },
     "metadata": {},
     "output_type": "display_data"
    },
    {
     "data": {
      "image/png": "[encoded data removed]",
      "text/plain": [
       "<matplotlib.figure.Figure at 0x7f3cfc8964e0>"
      ]
     },
     "metadata": {},
     "output_type": "display_data"
    }
   ],
   "source": [
    "centiles = np.arange(0.95, 1, 0.0015)\n",
    "print(centiles)\n",
    "\n",
    "results_day = pd.DataFrame(day_.tripduration.quantile(centiles)).plot(kind='bar',figsize=(20,10),rot=45)\n",
    "#plt.xticks(np.arange(0.95, 1, 0.0015),fontsize=14)\n",
    "plt.xticks(fontsize=14)\n",
    "plt.xlabel(\"Percentile\",fontsize=18)\n",
    "plt.ylabel(\"Count\",fontsize=18)\n",
    "plt.title(\"Percentile distribution of counts for Day time rides\",fontsize=18)\n",
    "\n",
    "results_night = pd.DataFrame(night_.tripduration.quantile(centiles)).plot(kind='bar',figsize=(20,10),rot=45)\n",
    "#plt.xticks(np.arange(0.95, 1, 0.0015),fontsize=14)\n",
    "plt.xticks(fontsize=14)\n",
    "plt.xlabel(\"Percentile\",fontsize=18)\n",
    "plt.ylabel(\"Count\",fontsize=18)\n",
    "plt.title(\"Percentile distribution of counts for Night time rides\",fontsize=18)\n",
    "\n",
    "\n",
    "#print(\"quantile of daytime: \\n{}\".format(results_day))\n",
    "#print(\"\\n\")\n",
    "#print(\"quantile of nighttime: \\n{}\".format(results_night))"
   ]
  },
  {
   "cell_type": "markdown",
   "metadata": {},
   "source": [
    "### Figure 4 & 5: the percentile distribution from the 95th percentile, and onwards for trip duration. From this visualization, we can determine where most outliers are concentrated. "
   ]
  },
  {
   "cell_type": "code",
   "execution_count": 13,
   "metadata": {},
   "outputs": [
    {
     "name": "stdout",
     "output_type": "stream",
     "text": [
      "the number of outliers for daytime rides is 34773\n",
      "the number of non-outliers for daytime rides is 3125537\n",
      "the number of outliers for nighttime rides is 4649\n",
      "the number of outliers for nighttime rides is 690102\n"
     ]
    }
   ],
   "source": [
    "#outliers_day=day_[day_.tripduration >= day_.tripduration.quantile(0.998)]\n",
    "#non_outliers_day=day_[day_.tripduration < day_.tripduration.quantile(0.998)]\n",
    "#outliers_night=night_[night_.tripduration >= day_.tripduration.quantile(0.9995)]\n",
    "#non_outliers_night=night_[night_.tripduration < day_.tripduration.quantile(0.9995)]\n",
    "outliers_day=day_[day_.tripduration >= day_.tripduration.quantile(0.989)]\n",
    "non_outliers_day=day_[day_.tripduration < day_.tripduration.quantile(0.989)]\n",
    "outliers_night=night_[night_.tripduration >= day_.tripduration.quantile(0.9905)]\n",
    "non_outliers_night=night_[night_.tripduration < day_.tripduration.quantile(0.9905)]\n",
    "\n",
    "size_out_day=len(outliers_day)\n",
    "size_nonout_day=len(non_outliers_day)\n",
    "size_out_night=len(outliers_night)\n",
    "size_nonout_night=len(non_outliers_night)\n",
    "\n",
    "\n",
    "print(\"the number of outliers for daytime rides is {}\".format(size_out_day))\n",
    "print(\"the number of non-outliers for daytime rides is {}\".format(size_nonout_day))\n",
    "#print(\"the percentage of outliers for daytime rides is {:.3%}\".format(size_out_day*1.0/(size_out_day+size_nonout_day*1.0)))\n",
    "#print(\"the percentage of non-outliers for daytime rides is {:.3%}\".format(size_nonout_day*1.0/(size_out_day+size_nonout_day*1.0)))\n",
    "print(\"the number of outliers for nighttime rides is {}\".format(size_out_night))\n",
    "print(\"the number of outliers for nighttime rides is {}\".format(size_nonout_night))\n",
    "#print(\"the percentage of outliers for nighttime rides is {:.3%}\".format(size_out_night*1.0/(size_out_night+size_nonout_night*1.0)))\n",
    "#print(\"the percentage of non-outliers for nighttime rides is {:.3%}\".format(size_nonout_night*1.0/(size_out_night+size_nonout_night*1.0)))"
   ]
  },
  {
   "cell_type": "code",
   "execution_count": null,
   "metadata": {},
   "outputs": [],
   "source": []
  },
  {
   "cell_type": "code",
   "execution_count": 14,
   "metadata": {},
   "outputs": [
    {
     "data": {
      "text/plain": [
       "Text(0.5,1,'Histogram of the trip duration for Night time rides with exclusion of outliers')"
      ]
     },
     "execution_count": 14,
     "metadata": {},
     "output_type": "execute_result"
    },
    {
     "data": {
      "image/png": "[encoded data removed]",
      "text/plain": [
       "<matplotlib.figure.Figure at 0x7f3d34222f98>"
      ]
     },
     "metadata": {},
     "output_type": "display_data"
    },
    {
     "data": {
      "image/png": "[encoded data removed]",
      "text/plain": [
       "<matplotlib.figure.Figure at 0x7f3cfc76d6a0>"
      ]
     },
     "metadata": {},
     "output_type": "display_data"
    }
   ],
   "source": [
    "non_outliers_day.hist('tripduration',bins=100,figsize=(20,10))\n",
    "plt.xlabel(\"Trip Duration\",fontsize=18)\n",
    "plt.ylabel(\"Count\",fontsize=18)\n",
    "plt.title(\"Histogram of the trip duration for day time rides with exclusion of outliers\",fontsize=18)\n",
    "\n",
    "non_outliers_night.hist('tripduration',bins=100,figsize=(20,10))\n",
    "plt.xlabel(\"Trip Duration\",fontsize=18)\n",
    "plt.ylabel(\"Count\",fontsize=18)\n",
    "plt.title(\"Histogram of the trip duration for Night time rides with exclusion of outliers\",fontsize=18)"
   ]
  },
  {
   "cell_type": "markdown",
   "metadata": {},
   "source": [
    "### Figure 6 & 7: the histogram of the trip duration of both Day and Night time riders excluding the outliers."
   ]
  },
  {
   "cell_type": "code",
   "execution_count": 15,
   "metadata": {},
   "outputs": [
    {
     "data": {
      "image/png": "[encoded data removed]",
      "text/plain": [
       "<matplotlib.figure.Figure at 0x7f3cf7eec668>"
      ]
     },
     "metadata": {},
     "output_type": "display_data"
    }
   ],
   "source": [
    "bins = np.arange(0, 4000, 50)\n",
    "plt.figure(figsize=(15,10))\n",
    "x=non_outliers_day.tripduration.groupby(pd.cut(non_outliers_day.tripduration,bins)).agg(['count']).cumsum()\n",
    "x_2=non_outliers_night.tripduration.groupby(pd.cut(non_outliers_night.tripduration,bins)).agg(['count']).cumsum()\n",
    "pl.plot(bins[:-1] + 5, x / x.max(),label=\"Daytime Riders\")\n",
    "pl.plot(bins[:-1] + 5, x_2 / x_2.max(),label=\"Nightime Riders\")\n",
    "pl.plot(bins[:-1] + 5, np.sqrt(x_2 / x_2.max() - x / x.max())**2, 'k-',\n",
    "        label = \"Difference\")\n",
    "pl.xlabel(\"Trip Duration\")\n",
    "pl.ylabel(\"Normalized Cumulative Number\")\n",
    "pl.legend()\n",
    "plt.show()"
   ]
  },
  {
   "cell_type": "markdown",
   "metadata": {},
   "source": [
    "### Figure 8: The empirical cumulative distribution of both day and night time riders with a distance measure of the distribution"
   ]
  },
  {
   "cell_type": "markdown",
   "metadata": {},
   "source": [
    "## KS tests to compare 2 samples\n",
    "\n",
    "http://docs.scipy.org/doc/scipy-0.15.1/reference/generated/scipy.stats.ks_2samp.html"
   ]
  },
  {
   "cell_type": "code",
   "execution_count": 16,
   "metadata": {},
   "outputs": [
    {
     "name": "stdout",
     "output_type": "stream",
     "text": [
      "Ks_2sampResult(statistic=0.014621778481453906, pvalue=1.9615723010963331e-105)\n"
     ]
    },
    {
     "data": {
      "text/plain": [
       "True"
      ]
     },
     "execution_count": 16,
     "metadata": {},
     "output_type": "execute_result"
    }
   ],
   "source": [
    "ks = scipy.stats.ks_2samp(non_outliers_day.tripduration, non_outliers_night.tripduration)\n",
    "print(ks)\n",
    "ks[0]>ks[1]\n",
    "#reject the null hypothesis"
   ]
  },
  {
   "cell_type": "markdown",
   "metadata": {},
   "source": [
    "### Null hypothesis ($H_0$) : Daytime riders are drawn from the same population distribution as Nighttime riders.\n",
    "### Alt hypothesis ($H_A$): Daytime riders are drawn from a different population distribution as compared to Nighttime riders.\n",
    "\n",
    "Since the KS Statistic $\\gt$ the P-value, we <b>reject</b> $H_0$, thus we say that daytime riders are drawn different population distribution as compared from nighttime riders. "
   ]
  },
  {
   "cell_type": "code",
   "execution_count": 17,
   "metadata": {},
   "outputs": [
    {
     "name": "stdout",
     "output_type": "stream",
     "text": [
      "Ks_2sampResult(statistic=0.017513887985491722, pvalue=0.34841311890504117)\n"
     ]
    },
    {
     "data": {
      "text/plain": [
       "False"
      ]
     },
     "execution_count": 17,
     "metadata": {},
     "output_type": "execute_result"
    }
   ],
   "source": [
    "reduced_day = non_outliers_day.sample(size=200, replace=True)\n",
    "reduced_night = non_outliers_night.sample(size=200, replace=True)\n",
    "\n",
    "ks = scipy.stats.ks_2samp(reduced_day.tripduration, reduced_night.tripduration)\n",
    "print(ks)                     \n",
    "ks[0]>ks[1]"
   ]
  },
  {
   "cell_type": "markdown",
   "metadata": {},
   "source": [
    "### Null hypothesis ($H_0$) : Daytime riders (from the reduced dataset) are drawn from the same population distribution as Nighttime riders (from the reduced dataset).\n",
    "### Alt hypothesis ($H_A$): Daytime riders (from the reduced dataset) are drawn from a different population distribution as compared to Nighttime riders (from the reduced dataset).\n",
    "\n",
    "Since the KS Statistic $\\lt$ the P-value, we <b>accept</b> $H_0$, thus we say that daytime riders (from the reduced dataset) are <b> NOT </b> drawn different population distribution as compared from nighttime riders (from the reduced dataset). "
   ]
  },
  {
   "cell_type": "code",
   "execution_count": null,
   "metadata": {},
   "outputs": [],
   "source": [
    "bins = np.arange(0, 4000, 50)\n",
    "plt.figure(figsize=(15,10))\n",
    "x=reduced_day.tripduration.groupby(pd.cut(reduced_day.tripduration,bins)).agg(['count']).cumsum()\n",
    "x_2=non_outliers_night.tripduration.groupby(pd.cut(non_outliers_night.tripduration,bins)).agg(['count']).cumsum()\n",
    "pl.plot(bins[:-1] + 5, x / x.max(),label=\"Daytime Riders\")\n",
    "pl.plot(bins[:-1] + 5, x_2 / x_2.max(),label=\"Nightime Riders\")\n",
    "pl.plot(bins[:-1] + 5, np.sqrt(x_2 / x_2.max() - x / x.max())**2, 'k-',\n",
    "        label = \"Difference\")\n",
    "pl.xlabel(\"Trip Duration\")\n",
    "pl.ylabel(\"Normalized Cumulative Number\")\n",
    "pl.legend()\n",
    "plt.show()"
   ]
  },
  {
   "cell_type": "markdown",
   "metadata": {},
   "source": [
    "## Correlation testing\n",
    "http://docs.scipy.org/doc/scipy/reference/generated/scipy.stats.pearsonr.html#scipy.stats.pearsonr"
   ]
  },
  {
   "cell_type": "code",
   "execution_count": 18,
   "metadata": {},
   "outputs": [
    {
     "data": {
      "text/plain": [
       "(0.99834752579750585, 0.0)"
      ]
     },
     "execution_count": 18,
     "metadata": {},
     "output_type": "execute_result"
    }
   ],
   "source": [
    "day_pair = np.random.choice(non_outliers_day.tripduration, 500)\n",
    "day_pair.sort()\n",
    "Night_pair = np.random.choice(non_outliers_night.tripduration, 500)\n",
    "Night_pair.sort()\n",
    "scipy.stats.pearsonr(day_pair, Night_pair)"
   ]
  },
  {
   "cell_type": "markdown",
   "metadata": {},
   "source": [
    "### Null hypothesis ($H_0$) : Daytime riders are not correlated with Nighttime riders.\n",
    "### Alt hypothesis ($H_A$): Daytime riders are correlated with Nighttime riders.\n",
    "\n",
    "Since the p-Value returned $\\lt$ our significance level $\\alpha = 0.5$, we <b>reject</b> $H_0$, day time riders are correlated with night time riders."
   ]
  },
  {
   "cell_type": "markdown",
   "metadata": {},
   "source": [
    "## Spearman's test for correlation\n",
    "\n",
    "http://docs.scipy.org/doc/scipy/reference/generated/scipy.stats.spearmanr.html#scipy.stats.spearmanr"
   ]
  },
  {
   "cell_type": "code",
   "execution_count": 19,
   "metadata": {},
   "outputs": [
    {
     "data": {
      "text/plain": [
       "SpearmanrResult(correlation=0.99999615996938251, pvalue=0.0)"
      ]
     },
     "execution_count": 19,
     "metadata": {},
     "output_type": "execute_result"
    }
   ],
   "source": [
    "scipy.stats.spearmanr(day_pair, Night_pair)"
   ]
  },
  {
   "cell_type": "markdown",
   "metadata": {},
   "source": [
    "### Null hypothesis ($H_0$) : Daytime riders are not correlated with Nighttime riders.\n",
    "### Alt hypothesis ($H_A$): Daytime riders are correlated with Nighttime riders.\n",
    "\n",
    "Since the p-Value returned $\\lt$ our significance level $\\alpha = 0.5$ , we <b>reject</b> $H_0$, day time riders are correlated with night time riders."
   ]
  },
  {
   "cell_type": "markdown",
   "metadata": {},
   "source": [
    "## Question 2: Age of bikers for trips originating in Manhattan and in Brooklyn\n",
    "Since i've already loaded the citibike data, i need to find a way to tell if the set of Long-Lat values that i have are within a particular Borough. For that, make use of NYC Open data to get polygon data representing the NYC boundaries, so i could determine if a particular Long-Lat value falls inside a particular Borough. Since i'm encountering difficulty with downloading the geojson file automatically, i decided to download the file locally then uploading it to my repository."
   ]
  },
  {
   "cell_type": "code",
   "execution_count": 20,
   "metadata": {},
   "outputs": [
    {
     "name": "stdout",
     "output_type": "stream",
     "text": [
      "  % Total    % Received % Xferd  Average Speed   Time    Time     Time  Current\n",
      "                                 Dload  Upload   Total   Spent    Left  Speed\n",
      "100 2890k  100 2890k    0     0  8183k      0 --:--:-- --:--:-- --:--:-- 8187k\n"
     ]
    }
   ],
   "source": [
    "#NOTE TO SELF: generalize this code\n",
    "!curl https://raw.githubusercontent.com/jinalklaulitz/PUI2018_msm796/master/HW5_msm796/Borough%20Boundaries.geojson  > ~/PUIdata/boundaries.geojson"
   ]
  },
  {
   "cell_type": "code",
   "execution_count": 21,
   "metadata": {},
   "outputs": [],
   "source": [
    "bound = gpd.read_file(puidata + \"/\" + \"boundaries.geojson\")"
   ]
  },
  {
   "cell_type": "code",
   "execution_count": 22,
   "metadata": {},
   "outputs": [
    {
     "data": {
      "text/html": [
       "<div>\n",
       "<table border=\"1\" class=\"dataframe\">\n",
       "  <thead>\n",
       "    <tr style=\"text-align: right;\">\n",
       "      <th></th>\n",
       "      <th>boro_code</th>\n",
       "      <th>boro_name</th>\n",
       "      <th>shape_area</th>\n",
       "      <th>shape_leng</th>\n",
       "      <th>geometry</th>\n",
       "    </tr>\n",
       "  </thead>\n",
       "  <tbody>\n",
       "    <tr>\n",
       "      <th>0</th>\n",
       "      <td>1</td>\n",
       "      <td>Manhattan</td>\n",
       "      <td>636600558.138</td>\n",
       "      <td>361649.881587</td>\n",
       "      <td>(POLYGON ((-74.01092841268031 40.6844914725429...</td>\n",
       "    </tr>\n",
       "    <tr>\n",
       "      <th>3</th>\n",
       "      <td>3</td>\n",
       "      <td>Brooklyn</td>\n",
       "      <td>1937566944.36</td>\n",
       "      <td>739945.437431</td>\n",
       "      <td>(POLYGON ((-73.86706149472118 40.5820879767934...</td>\n",
       "    </tr>\n",
       "  </tbody>\n",
       "</table>\n",
       "</div>"
      ],
      "text/plain": [
       "  boro_code  boro_name     shape_area     shape_leng  \\\n",
       "0         1  Manhattan  636600558.138  361649.881587   \n",
       "3         3   Brooklyn  1937566944.36  739945.437431   \n",
       "\n",
       "                                            geometry  \n",
       "0  (POLYGON ((-74.01092841268031 40.6844914725429...  \n",
       "3  (POLYGON ((-73.86706149472118 40.5820879767934...  "
      ]
     },
     "execution_count": 22,
     "metadata": {},
     "output_type": "execute_result"
    }
   ],
   "source": [
    "bound[(bound['boro_code']=='1') |  (bound['boro_code']=='3')]"
   ]
  },
  {
   "cell_type": "markdown",
   "metadata": {},
   "source": [
    "### From here, i  generate the necessary borough information. Below i subset my dataset to only contain the necessary columns, created a age column and drop rows with missing age information or geographic information."
   ]
  },
  {
   "cell_type": "code",
   "execution_count": 29,
   "metadata": {},
   "outputs": [
    {
     "data": {
      "text/html": [
       "<div>\n",
       "<table border=\"1\" class=\"dataframe\">\n",
       "  <thead>\n",
       "    <tr style=\"text-align: right;\">\n",
       "      <th></th>\n",
       "      <th>start station latitude</th>\n",
       "      <th>start station longitude</th>\n",
       "      <th>birth year</th>\n",
       "      <th>age</th>\n",
       "    </tr>\n",
       "  </thead>\n",
       "  <tbody>\n",
       "    <tr>\n",
       "      <th>0</th>\n",
       "      <td>40.783400</td>\n",
       "      <td>-73.980931</td>\n",
       "      <td>1986</td>\n",
       "      <td>32</td>\n",
       "    </tr>\n",
       "    <tr>\n",
       "      <th>1</th>\n",
       "      <td>40.727064</td>\n",
       "      <td>-73.996621</td>\n",
       "      <td>1969</td>\n",
       "      <td>49</td>\n",
       "    </tr>\n",
       "    <tr>\n",
       "      <th>2</th>\n",
       "      <td>40.725029</td>\n",
       "      <td>-73.990697</td>\n",
       "      <td>1970</td>\n",
       "      <td>48</td>\n",
       "    </tr>\n",
       "    <tr>\n",
       "      <th>3</th>\n",
       "      <td>40.683239</td>\n",
       "      <td>-73.965996</td>\n",
       "      <td>1982</td>\n",
       "      <td>36</td>\n",
       "    </tr>\n",
       "    <tr>\n",
       "      <th>4</th>\n",
       "      <td>40.761294</td>\n",
       "      <td>-73.916917</td>\n",
       "      <td>1987</td>\n",
       "      <td>31</td>\n",
       "    </tr>\n",
       "    <tr>\n",
       "      <th>5</th>\n",
       "      <td>40.765265</td>\n",
       "      <td>-73.981923</td>\n",
       "      <td>1969</td>\n",
       "      <td>49</td>\n",
       "    </tr>\n",
       "    <tr>\n",
       "      <th>6</th>\n",
       "      <td>40.760094</td>\n",
       "      <td>-73.994618</td>\n",
       "      <td>1975</td>\n",
       "      <td>43</td>\n",
       "    </tr>\n",
       "    <tr>\n",
       "      <th>7</th>\n",
       "      <td>40.722293</td>\n",
       "      <td>-73.991475</td>\n",
       "      <td>1997</td>\n",
       "      <td>21</td>\n",
       "    </tr>\n",
       "    <tr>\n",
       "      <th>8</th>\n",
       "      <td>40.745712</td>\n",
       "      <td>-73.981948</td>\n",
       "      <td>1994</td>\n",
       "      <td>24</td>\n",
       "    </tr>\n",
       "    <tr>\n",
       "      <th>9</th>\n",
       "      <td>40.772838</td>\n",
       "      <td>-73.949892</td>\n",
       "      <td>1993</td>\n",
       "      <td>25</td>\n",
       "    </tr>\n",
       "    <tr>\n",
       "      <th>10</th>\n",
       "      <td>40.726218</td>\n",
       "      <td>-73.983799</td>\n",
       "      <td>1989</td>\n",
       "      <td>29</td>\n",
       "    </tr>\n",
       "    <tr>\n",
       "      <th>11</th>\n",
       "      <td>40.724055</td>\n",
       "      <td>-74.009660</td>\n",
       "      <td>1972</td>\n",
       "      <td>46</td>\n",
       "    </tr>\n",
       "    <tr>\n",
       "      <th>12</th>\n",
       "      <td>40.801307</td>\n",
       "      <td>-73.939817</td>\n",
       "      <td>1965</td>\n",
       "      <td>53</td>\n",
       "    </tr>\n",
       "    <tr>\n",
       "      <th>13</th>\n",
       "      <td>40.755136</td>\n",
       "      <td>-73.986580</td>\n",
       "      <td>1988</td>\n",
       "      <td>30</td>\n",
       "    </tr>\n",
       "    <tr>\n",
       "      <th>14</th>\n",
       "      <td>40.741022</td>\n",
       "      <td>-74.001385</td>\n",
       "      <td>1985</td>\n",
       "      <td>33</td>\n",
       "    </tr>\n",
       "    <tr>\n",
       "      <th>15</th>\n",
       "      <td>40.761227</td>\n",
       "      <td>-73.960940</td>\n",
       "      <td>1990</td>\n",
       "      <td>28</td>\n",
       "    </tr>\n",
       "    <tr>\n",
       "      <th>16</th>\n",
       "      <td>40.721655</td>\n",
       "      <td>-74.002347</td>\n",
       "      <td>1990</td>\n",
       "      <td>28</td>\n",
       "    </tr>\n",
       "    <tr>\n",
       "      <th>17</th>\n",
       "      <td>40.683125</td>\n",
       "      <td>-73.978951</td>\n",
       "      <td>1984</td>\n",
       "      <td>34</td>\n",
       "    </tr>\n",
       "    <tr>\n",
       "      <th>18</th>\n",
       "      <td>40.730477</td>\n",
       "      <td>-73.999061</td>\n",
       "      <td>1994</td>\n",
       "      <td>24</td>\n",
       "    </tr>\n",
       "    <tr>\n",
       "      <th>19</th>\n",
       "      <td>40.714690</td>\n",
       "      <td>-73.957390</td>\n",
       "      <td>1984</td>\n",
       "      <td>34</td>\n",
       "    </tr>\n",
       "    <tr>\n",
       "      <th>20</th>\n",
       "      <td>40.745712</td>\n",
       "      <td>-73.981948</td>\n",
       "      <td>1969</td>\n",
       "      <td>49</td>\n",
       "    </tr>\n",
       "    <tr>\n",
       "      <th>21</th>\n",
       "      <td>40.748549</td>\n",
       "      <td>-73.988084</td>\n",
       "      <td>1987</td>\n",
       "      <td>31</td>\n",
       "    </tr>\n",
       "    <tr>\n",
       "      <th>22</th>\n",
       "      <td>40.727791</td>\n",
       "      <td>-73.985649</td>\n",
       "      <td>1982</td>\n",
       "      <td>36</td>\n",
       "    </tr>\n",
       "    <tr>\n",
       "      <th>23</th>\n",
       "      <td>40.734546</td>\n",
       "      <td>-73.990741</td>\n",
       "      <td>1969</td>\n",
       "      <td>49</td>\n",
       "    </tr>\n",
       "    <tr>\n",
       "      <th>24</th>\n",
       "      <td>40.745168</td>\n",
       "      <td>-73.986831</td>\n",
       "      <td>1980</td>\n",
       "      <td>38</td>\n",
       "    </tr>\n",
       "    <tr>\n",
       "      <th>25</th>\n",
       "      <td>40.750585</td>\n",
       "      <td>-73.994685</td>\n",
       "      <td>1975</td>\n",
       "      <td>43</td>\n",
       "    </tr>\n",
       "    <tr>\n",
       "      <th>26</th>\n",
       "      <td>40.728419</td>\n",
       "      <td>-73.987140</td>\n",
       "      <td>1954</td>\n",
       "      <td>64</td>\n",
       "    </tr>\n",
       "    <tr>\n",
       "      <th>27</th>\n",
       "      <td>40.713342</td>\n",
       "      <td>-74.009355</td>\n",
       "      <td>1974</td>\n",
       "      <td>44</td>\n",
       "    </tr>\n",
       "    <tr>\n",
       "      <th>28</th>\n",
       "      <td>40.720196</td>\n",
       "      <td>-73.989978</td>\n",
       "      <td>1973</td>\n",
       "      <td>45</td>\n",
       "    </tr>\n",
       "    <tr>\n",
       "      <th>29</th>\n",
       "      <td>40.722293</td>\n",
       "      <td>-73.991475</td>\n",
       "      <td>1960</td>\n",
       "      <td>58</td>\n",
       "    </tr>\n",
       "    <tr>\n",
       "      <th>...</th>\n",
       "      <td>...</td>\n",
       "      <td>...</td>\n",
       "      <td>...</td>\n",
       "      <td>...</td>\n",
       "    </tr>\n",
       "    <tr>\n",
       "      <th>1877854</th>\n",
       "      <td>40.704633</td>\n",
       "      <td>-74.013617</td>\n",
       "      <td>1982</td>\n",
       "      <td>36</td>\n",
       "    </tr>\n",
       "    <tr>\n",
       "      <th>1877855</th>\n",
       "      <td>40.722104</td>\n",
       "      <td>-73.997249</td>\n",
       "      <td>1979</td>\n",
       "      <td>39</td>\n",
       "    </tr>\n",
       "    <tr>\n",
       "      <th>1877856</th>\n",
       "      <td>40.746920</td>\n",
       "      <td>-74.004519</td>\n",
       "      <td>1967</td>\n",
       "      <td>51</td>\n",
       "    </tr>\n",
       "    <tr>\n",
       "      <th>1877857</th>\n",
       "      <td>40.704718</td>\n",
       "      <td>-74.009260</td>\n",
       "      <td>1986</td>\n",
       "      <td>32</td>\n",
       "    </tr>\n",
       "    <tr>\n",
       "      <th>1877858</th>\n",
       "      <td>40.740343</td>\n",
       "      <td>-73.989551</td>\n",
       "      <td>1980</td>\n",
       "      <td>38</td>\n",
       "    </tr>\n",
       "    <tr>\n",
       "      <th>1877859</th>\n",
       "      <td>40.723077</td>\n",
       "      <td>-73.985836</td>\n",
       "      <td>1971</td>\n",
       "      <td>47</td>\n",
       "    </tr>\n",
       "    <tr>\n",
       "      <th>1877860</th>\n",
       "      <td>40.711674</td>\n",
       "      <td>-73.951413</td>\n",
       "      <td>1975</td>\n",
       "      <td>43</td>\n",
       "    </tr>\n",
       "    <tr>\n",
       "      <th>1877861</th>\n",
       "      <td>40.674181</td>\n",
       "      <td>-73.956495</td>\n",
       "      <td>2000</td>\n",
       "      <td>18</td>\n",
       "    </tr>\n",
       "    <tr>\n",
       "      <th>1877862</th>\n",
       "      <td>40.679427</td>\n",
       "      <td>-73.929891</td>\n",
       "      <td>1966</td>\n",
       "      <td>52</td>\n",
       "    </tr>\n",
       "    <tr>\n",
       "      <th>1877863</th>\n",
       "      <td>40.685068</td>\n",
       "      <td>-73.977908</td>\n",
       "      <td>1993</td>\n",
       "      <td>25</td>\n",
       "    </tr>\n",
       "    <tr>\n",
       "      <th>1877864</th>\n",
       "      <td>40.736494</td>\n",
       "      <td>-73.997044</td>\n",
       "      <td>1996</td>\n",
       "      <td>22</td>\n",
       "    </tr>\n",
       "    <tr>\n",
       "      <th>1877865</th>\n",
       "      <td>40.736494</td>\n",
       "      <td>-73.997044</td>\n",
       "      <td>1997</td>\n",
       "      <td>21</td>\n",
       "    </tr>\n",
       "    <tr>\n",
       "      <th>1877866</th>\n",
       "      <td>40.716075</td>\n",
       "      <td>-73.952029</td>\n",
       "      <td>1998</td>\n",
       "      <td>20</td>\n",
       "    </tr>\n",
       "    <tr>\n",
       "      <th>1877867</th>\n",
       "      <td>40.679043</td>\n",
       "      <td>-74.011169</td>\n",
       "      <td>1982</td>\n",
       "      <td>36</td>\n",
       "    </tr>\n",
       "    <tr>\n",
       "      <th>1877868</th>\n",
       "      <td>40.723180</td>\n",
       "      <td>-73.994800</td>\n",
       "      <td>1987</td>\n",
       "      <td>31</td>\n",
       "    </tr>\n",
       "    <tr>\n",
       "      <th>1877869</th>\n",
       "      <td>40.777480</td>\n",
       "      <td>-73.982886</td>\n",
       "      <td>1987</td>\n",
       "      <td>31</td>\n",
       "    </tr>\n",
       "    <tr>\n",
       "      <th>1877870</th>\n",
       "      <td>40.719009</td>\n",
       "      <td>-73.958525</td>\n",
       "      <td>1985</td>\n",
       "      <td>33</td>\n",
       "    </tr>\n",
       "    <tr>\n",
       "      <th>1877871</th>\n",
       "      <td>40.777057</td>\n",
       "      <td>-73.978985</td>\n",
       "      <td>1959</td>\n",
       "      <td>59</td>\n",
       "    </tr>\n",
       "    <tr>\n",
       "      <th>1877872</th>\n",
       "      <td>40.692395</td>\n",
       "      <td>-73.993379</td>\n",
       "      <td>1991</td>\n",
       "      <td>27</td>\n",
       "    </tr>\n",
       "    <tr>\n",
       "      <th>1877873</th>\n",
       "      <td>40.718822</td>\n",
       "      <td>-73.995960</td>\n",
       "      <td>1988</td>\n",
       "      <td>30</td>\n",
       "    </tr>\n",
       "    <tr>\n",
       "      <th>1877874</th>\n",
       "      <td>40.730260</td>\n",
       "      <td>-73.953940</td>\n",
       "      <td>1978</td>\n",
       "      <td>40</td>\n",
       "    </tr>\n",
       "    <tr>\n",
       "      <th>1877875</th>\n",
       "      <td>40.723077</td>\n",
       "      <td>-73.985836</td>\n",
       "      <td>1987</td>\n",
       "      <td>31</td>\n",
       "    </tr>\n",
       "    <tr>\n",
       "      <th>1877876</th>\n",
       "      <td>40.662706</td>\n",
       "      <td>-73.956912</td>\n",
       "      <td>1986</td>\n",
       "      <td>32</td>\n",
       "    </tr>\n",
       "    <tr>\n",
       "      <th>1877877</th>\n",
       "      <td>40.662706</td>\n",
       "      <td>-73.956912</td>\n",
       "      <td>1963</td>\n",
       "      <td>55</td>\n",
       "    </tr>\n",
       "    <tr>\n",
       "      <th>1877878</th>\n",
       "      <td>40.662706</td>\n",
       "      <td>-73.956912</td>\n",
       "      <td>2002</td>\n",
       "      <td>16</td>\n",
       "    </tr>\n",
       "    <tr>\n",
       "      <th>1877879</th>\n",
       "      <td>40.662706</td>\n",
       "      <td>-73.956912</td>\n",
       "      <td>1985</td>\n",
       "      <td>33</td>\n",
       "    </tr>\n",
       "    <tr>\n",
       "      <th>1877880</th>\n",
       "      <td>40.662706</td>\n",
       "      <td>-73.956912</td>\n",
       "      <td>1985</td>\n",
       "      <td>33</td>\n",
       "    </tr>\n",
       "    <tr>\n",
       "      <th>1877881</th>\n",
       "      <td>40.662706</td>\n",
       "      <td>-73.956912</td>\n",
       "      <td>1981</td>\n",
       "      <td>37</td>\n",
       "    </tr>\n",
       "    <tr>\n",
       "      <th>1877882</th>\n",
       "      <td>40.662706</td>\n",
       "      <td>-73.956912</td>\n",
       "      <td>1986</td>\n",
       "      <td>32</td>\n",
       "    </tr>\n",
       "    <tr>\n",
       "      <th>1877883</th>\n",
       "      <td>40.662706</td>\n",
       "      <td>-73.956912</td>\n",
       "      <td>1981</td>\n",
       "      <td>37</td>\n",
       "    </tr>\n",
       "  </tbody>\n",
       "</table>\n",
       "<p>3855061 rows × 4 columns</p>\n",
       "</div>"
      ],
      "text/plain": [
       "         start station latitude  start station longitude  birth year  age\n",
       "0                     40.783400               -73.980931        1986   32\n",
       "1                     40.727064               -73.996621        1969   49\n",
       "2                     40.725029               -73.990697        1970   48\n",
       "3                     40.683239               -73.965996        1982   36\n",
       "4                     40.761294               -73.916917        1987   31\n",
       "5                     40.765265               -73.981923        1969   49\n",
       "6                     40.760094               -73.994618        1975   43\n",
       "7                     40.722293               -73.991475        1997   21\n",
       "8                     40.745712               -73.981948        1994   24\n",
       "9                     40.772838               -73.949892        1993   25\n",
       "10                    40.726218               -73.983799        1989   29\n",
       "11                    40.724055               -74.009660        1972   46\n",
       "12                    40.801307               -73.939817        1965   53\n",
       "13                    40.755136               -73.986580        1988   30\n",
       "14                    40.741022               -74.001385        1985   33\n",
       "15                    40.761227               -73.960940        1990   28\n",
       "16                    40.721655               -74.002347        1990   28\n",
       "17                    40.683125               -73.978951        1984   34\n",
       "18                    40.730477               -73.999061        1994   24\n",
       "19                    40.714690               -73.957390        1984   34\n",
       "20                    40.745712               -73.981948        1969   49\n",
       "21                    40.748549               -73.988084        1987   31\n",
       "22                    40.727791               -73.985649        1982   36\n",
       "23                    40.734546               -73.990741        1969   49\n",
       "24                    40.745168               -73.986831        1980   38\n",
       "25                    40.750585               -73.994685        1975   43\n",
       "26                    40.728419               -73.987140        1954   64\n",
       "27                    40.713342               -74.009355        1974   44\n",
       "28                    40.720196               -73.989978        1973   45\n",
       "29                    40.722293               -73.991475        1960   58\n",
       "...                         ...                      ...         ...  ...\n",
       "1877854               40.704633               -74.013617        1982   36\n",
       "1877855               40.722104               -73.997249        1979   39\n",
       "1877856               40.746920               -74.004519        1967   51\n",
       "1877857               40.704718               -74.009260        1986   32\n",
       "1877858               40.740343               -73.989551        1980   38\n",
       "1877859               40.723077               -73.985836        1971   47\n",
       "1877860               40.711674               -73.951413        1975   43\n",
       "1877861               40.674181               -73.956495        2000   18\n",
       "1877862               40.679427               -73.929891        1966   52\n",
       "1877863               40.685068               -73.977908        1993   25\n",
       "1877864               40.736494               -73.997044        1996   22\n",
       "1877865               40.736494               -73.997044        1997   21\n",
       "1877866               40.716075               -73.952029        1998   20\n",
       "1877867               40.679043               -74.011169        1982   36\n",
       "1877868               40.723180               -73.994800        1987   31\n",
       "1877869               40.777480               -73.982886        1987   31\n",
       "1877870               40.719009               -73.958525        1985   33\n",
       "1877871               40.777057               -73.978985        1959   59\n",
       "1877872               40.692395               -73.993379        1991   27\n",
       "1877873               40.718822               -73.995960        1988   30\n",
       "1877874               40.730260               -73.953940        1978   40\n",
       "1877875               40.723077               -73.985836        1987   31\n",
       "1877876               40.662706               -73.956912        1986   32\n",
       "1877877               40.662706               -73.956912        1963   55\n",
       "1877878               40.662706               -73.956912        2002   16\n",
       "1877879               40.662706               -73.956912        1985   33\n",
       "1877880               40.662706               -73.956912        1985   33\n",
       "1877881               40.662706               -73.956912        1981   37\n",
       "1877882               40.662706               -73.956912        1986   32\n",
       "1877883               40.662706               -73.956912        1981   37\n",
       "\n",
       "[3855061 rows x 4 columns]"
      ]
     },
     "execution_count": 29,
     "metadata": {},
     "output_type": "execute_result"
    }
   ],
   "source": [
    "drop_cols2=[x for x in complete_set.columns.get_values() if x not in ['start station latitude','start station longitude','birth year']]\n",
    "man_brook=complete_set.drop(drop_cols2,axis=1)\n",
    "man_brook['age'] = 2018 - man_brook['birth year'] \n",
    "man_brook.dropna()"
   ]
  },
  {
   "cell_type": "markdown",
   "metadata": {},
   "source": [
    "### Now i convert the long-lat information into geographic points"
   ]
  },
  {
   "cell_type": "code",
   "execution_count": 30,
   "metadata": {},
   "outputs": [],
   "source": [
    "man_brook['point_long_lat']=man_brook.apply(lambda row: Point(row[\"start station longitude\"], row[\"start station latitude\"]), axis=1)"
   ]
  },
  {
   "cell_type": "code",
   "execution_count": 31,
   "metadata": {},
   "outputs": [
    {
     "data": {
      "text/html": [
       "<div>\n",
       "<table border=\"1\" class=\"dataframe\">\n",
       "  <thead>\n",
       "    <tr style=\"text-align: right;\">\n",
       "      <th></th>\n",
       "      <th>start station latitude</th>\n",
       "      <th>start station longitude</th>\n",
       "      <th>birth year</th>\n",
       "      <th>age</th>\n",
       "      <th>point_long_lat</th>\n",
       "    </tr>\n",
       "  </thead>\n",
       "  <tbody>\n",
       "    <tr>\n",
       "      <th>0</th>\n",
       "      <td>40.783400</td>\n",
       "      <td>-73.980931</td>\n",
       "      <td>1986</td>\n",
       "      <td>32</td>\n",
       "      <td>POINT (-73.98093133 40.78339981)</td>\n",
       "    </tr>\n",
       "    <tr>\n",
       "      <th>1</th>\n",
       "      <td>40.727064</td>\n",
       "      <td>-73.996621</td>\n",
       "      <td>1969</td>\n",
       "      <td>49</td>\n",
       "      <td>POINT (-73.99662137031554 40.72706363348306)</td>\n",
       "    </tr>\n",
       "    <tr>\n",
       "      <th>2</th>\n",
       "      <td>40.725029</td>\n",
       "      <td>-73.990697</td>\n",
       "      <td>1970</td>\n",
       "      <td>48</td>\n",
       "      <td>POINT (-73.99069656 40.72502876)</td>\n",
       "    </tr>\n",
       "    <tr>\n",
       "      <th>3</th>\n",
       "      <td>40.683239</td>\n",
       "      <td>-73.965996</td>\n",
       "      <td>1982</td>\n",
       "      <td>36</td>\n",
       "      <td>POINT (-73.96599590778352 40.68323865460341)</td>\n",
       "    </tr>\n",
       "    <tr>\n",
       "      <th>4</th>\n",
       "      <td>40.761294</td>\n",
       "      <td>-73.916917</td>\n",
       "      <td>1987</td>\n",
       "      <td>31</td>\n",
       "      <td>POINT (-73.916916847229 40.76129389728909)</td>\n",
       "    </tr>\n",
       "  </tbody>\n",
       "</table>\n",
       "</div>"
      ],
      "text/plain": [
       "   start station latitude  start station longitude  birth year  age  \\\n",
       "0               40.783400               -73.980931        1986   32   \n",
       "1               40.727064               -73.996621        1969   49   \n",
       "2               40.725029               -73.990697        1970   48   \n",
       "3               40.683239               -73.965996        1982   36   \n",
       "4               40.761294               -73.916917        1987   31   \n",
       "\n",
       "                                 point_long_lat  \n",
       "0              POINT (-73.98093133 40.78339981)  \n",
       "1  POINT (-73.99662137031554 40.72706363348306)  \n",
       "2              POINT (-73.99069656 40.72502876)  \n",
       "3  POINT (-73.96599590778352 40.68323865460341)  \n",
       "4    POINT (-73.916916847229 40.76129389728909)  "
      ]
     },
     "execution_count": 31,
     "metadata": {},
     "output_type": "execute_result"
    }
   ],
   "source": [
    "man_brook.head()"
   ]
  },
  {
   "cell_type": "markdown",
   "metadata": {},
   "source": [
    "### I now differentiate the points if they are in Manhattan or Brooklyn. This process takes awhile."
   ]
  },
  {
   "cell_type": "code",
   "execution_count": null,
   "metadata": {},
   "outputs": [],
   "source": [
    "def boro(x):\n",
    "    if bound.geometry[0].contains(x):\n",
    "        return \"Manhattan\"\n",
    "    elif bound.geometry[3].contains(x):\n",
    "        return \"Brooklyn\"\n",
    "    else:\n",
    "        \"other\"\n",
    "\n",
    "#man_brook['boro'] = np.where(bound.geometry[0].contains(man_brook.point_long_lat),\"Manhattan\",\n",
    "#                            np.where(bound.geometry[3].contains(man_brook.point_long_lat),\"Brooklyn\",\n",
    "#                            \"other\")\n",
    "#                            )\n",
    "\n",
    "man_brook['boro'] = man_brook.point_long_lat.apply(boro)\n",
    "\n",
    "#bound.geometry[0] man\n",
    "#bound.geometry[3] bk"
   ]
  },
  {
   "cell_type": "code",
   "execution_count": 27,
   "metadata": {},
   "outputs": [
    {
     "data": {
      "text/html": [
       "<div>\n",
       "<table border=\"1\" class=\"dataframe\">\n",
       "  <thead>\n",
       "    <tr style=\"text-align: right;\">\n",
       "      <th></th>\n",
       "      <th>start station latitude</th>\n",
       "      <th>start station longitude</th>\n",
       "      <th>birth year</th>\n",
       "      <th>age</th>\n",
       "      <th>point_long_lat</th>\n",
       "    </tr>\n",
       "  </thead>\n",
       "  <tbody>\n",
       "    <tr>\n",
       "      <th>0</th>\n",
       "      <td>40.783400</td>\n",
       "      <td>-73.980931</td>\n",
       "      <td>1986</td>\n",
       "      <td>32</td>\n",
       "      <td>POINT (-73.98093133 40.78339981)</td>\n",
       "    </tr>\n",
       "    <tr>\n",
       "      <th>1</th>\n",
       "      <td>40.727064</td>\n",
       "      <td>-73.996621</td>\n",
       "      <td>1969</td>\n",
       "      <td>49</td>\n",
       "      <td>POINT (-73.99662137031554 40.72706363348306)</td>\n",
       "    </tr>\n",
       "    <tr>\n",
       "      <th>2</th>\n",
       "      <td>40.725029</td>\n",
       "      <td>-73.990697</td>\n",
       "      <td>1970</td>\n",
       "      <td>48</td>\n",
       "      <td>POINT (-73.99069656 40.72502876)</td>\n",
       "    </tr>\n",
       "    <tr>\n",
       "      <th>3</th>\n",
       "      <td>40.683239</td>\n",
       "      <td>-73.965996</td>\n",
       "      <td>1982</td>\n",
       "      <td>36</td>\n",
       "      <td>POINT (-73.96599590778352 40.68323865460341)</td>\n",
       "    </tr>\n",
       "    <tr>\n",
       "      <th>4</th>\n",
       "      <td>40.761294</td>\n",
       "      <td>-73.916917</td>\n",
       "      <td>1987</td>\n",
       "      <td>31</td>\n",
       "      <td>POINT (-73.916916847229 40.76129389728909)</td>\n",
       "    </tr>\n",
       "  </tbody>\n",
       "</table>\n",
       "</div>"
      ],
      "text/plain": [
       "   start station latitude  start station longitude  birth year  age  \\\n",
       "0               40.783400               -73.980931        1986   32   \n",
       "1               40.727064               -73.996621        1969   49   \n",
       "2               40.725029               -73.990697        1970   48   \n",
       "3               40.683239               -73.965996        1982   36   \n",
       "4               40.761294               -73.916917        1987   31   \n",
       "\n",
       "                                 point_long_lat  \n",
       "0              POINT (-73.98093133 40.78339981)  \n",
       "1  POINT (-73.99662137031554 40.72706363348306)  \n",
       "2              POINT (-73.99069656 40.72502876)  \n",
       "3  POINT (-73.96599590778352 40.68323865460341)  \n",
       "4    POINT (-73.916916847229 40.76129389728909)  "
      ]
     },
     "execution_count": 27,
     "metadata": {},
     "output_type": "execute_result"
    }
   ],
   "source": [
    "man_brook.head()\n",
    "Mann=man_brook[man_brook['boro']=='Manhattan']\n",
    "BK=man_brook[man_brook['boro']=='Brooklyn']"
   ]
  },
  {
   "cell_type": "code",
   "execution_count": null,
   "metadata": {},
   "outputs": [],
   "source": []
  },
  {
   "cell_type": "markdown",
   "metadata": {
    "collapsed": true
   },
   "source": [
    "### Now we check for outliers between the two samples..."
   ]
  },
  {
   "cell_type": "code",
   "execution_count": 28,
   "metadata": {},
   "outputs": [
    {
     "ename": "KeyError",
     "evalue": "\"['boro'] not in index\"",
     "output_type": "error",
     "traceback": [
      "\u001b[0;31m---------------------------------------------------------------------------\u001b[0m",
      "\u001b[0;31mKeyError\u001b[0m                                  Traceback (most recent call last)",
      "\u001b[0;32m<ipython-input-28-1f950e244696>\u001b[0m in \u001b[0;36m<module>\u001b[0;34m()\u001b[0m\n\u001b[0;32m----> 1\u001b[0;31m \u001b[0mman_brook\u001b[0m\u001b[0;34m[\u001b[0m\u001b[0;34m[\u001b[0m\u001b[0;34m'age'\u001b[0m\u001b[0;34m,\u001b[0m\u001b[0;34m'boro'\u001b[0m\u001b[0;34m]\u001b[0m\u001b[0;34m]\u001b[0m\u001b[0;34m.\u001b[0m\u001b[0mboxplot\u001b[0m\u001b[0;34m(\u001b[0m\u001b[0mby\u001b[0m\u001b[0;34m=\u001b[0m\u001b[0;34m'boro'\u001b[0m\u001b[0;34m,\u001b[0m \u001b[0mfigsize\u001b[0m\u001b[0;34m=\u001b[0m\u001b[0;34m(\u001b[0m\u001b[0;36m20\u001b[0m\u001b[0;34m,\u001b[0m\u001b[0;36m10\u001b[0m\u001b[0;34m)\u001b[0m\u001b[0;34m)\u001b[0m\u001b[0;34m\u001b[0m\u001b[0m\n\u001b[0m",
      "\u001b[0;32m/usr/local/Anaconda3-5.0.0-Linux-x86_64/envs/PUI2016_Python3/lib/python3.5/site-packages/pandas/core/frame.py\u001b[0m in \u001b[0;36m__getitem__\u001b[0;34m(self, key)\u001b[0m\n\u001b[1;32m   1989\u001b[0m         \u001b[0;32mif\u001b[0m \u001b[0misinstance\u001b[0m\u001b[0;34m(\u001b[0m\u001b[0mkey\u001b[0m\u001b[0;34m,\u001b[0m \u001b[0;34m(\u001b[0m\u001b[0mSeries\u001b[0m\u001b[0;34m,\u001b[0m \u001b[0mnp\u001b[0m\u001b[0;34m.\u001b[0m\u001b[0mndarray\u001b[0m\u001b[0;34m,\u001b[0m \u001b[0mIndex\u001b[0m\u001b[0;34m,\u001b[0m \u001b[0mlist\u001b[0m\u001b[0;34m)\u001b[0m\u001b[0;34m)\u001b[0m\u001b[0;34m:\u001b[0m\u001b[0;34m\u001b[0m\u001b[0m\n\u001b[1;32m   1990\u001b[0m             \u001b[0;31m# either boolean or fancy integer index\u001b[0m\u001b[0;34m\u001b[0m\u001b[0;34m\u001b[0m\u001b[0m\n\u001b[0;32m-> 1991\u001b[0;31m             \u001b[0;32mreturn\u001b[0m \u001b[0mself\u001b[0m\u001b[0;34m.\u001b[0m\u001b[0m_getitem_array\u001b[0m\u001b[0;34m(\u001b[0m\u001b[0mkey\u001b[0m\u001b[0;34m)\u001b[0m\u001b[0;34m\u001b[0m\u001b[0m\n\u001b[0m\u001b[1;32m   1992\u001b[0m         \u001b[0;32melif\u001b[0m \u001b[0misinstance\u001b[0m\u001b[0;34m(\u001b[0m\u001b[0mkey\u001b[0m\u001b[0;34m,\u001b[0m \u001b[0mDataFrame\u001b[0m\u001b[0;34m)\u001b[0m\u001b[0;34m:\u001b[0m\u001b[0;34m\u001b[0m\u001b[0m\n\u001b[1;32m   1993\u001b[0m             \u001b[0;32mreturn\u001b[0m \u001b[0mself\u001b[0m\u001b[0;34m.\u001b[0m\u001b[0m_getitem_frame\u001b[0m\u001b[0;34m(\u001b[0m\u001b[0mkey\u001b[0m\u001b[0;34m)\u001b[0m\u001b[0;34m\u001b[0m\u001b[0m\n",
      "\u001b[0;32m/usr/local/Anaconda3-5.0.0-Linux-x86_64/envs/PUI2016_Python3/lib/python3.5/site-packages/pandas/core/frame.py\u001b[0m in \u001b[0;36m_getitem_array\u001b[0;34m(self, key)\u001b[0m\n\u001b[1;32m   2033\u001b[0m             \u001b[0;32mreturn\u001b[0m \u001b[0mself\u001b[0m\u001b[0;34m.\u001b[0m\u001b[0mtake\u001b[0m\u001b[0;34m(\u001b[0m\u001b[0mindexer\u001b[0m\u001b[0;34m,\u001b[0m \u001b[0maxis\u001b[0m\u001b[0;34m=\u001b[0m\u001b[0;36m0\u001b[0m\u001b[0;34m,\u001b[0m \u001b[0mconvert\u001b[0m\u001b[0;34m=\u001b[0m\u001b[0;32mFalse\u001b[0m\u001b[0;34m)\u001b[0m\u001b[0;34m\u001b[0m\u001b[0m\n\u001b[1;32m   2034\u001b[0m         \u001b[0;32melse\u001b[0m\u001b[0;34m:\u001b[0m\u001b[0;34m\u001b[0m\u001b[0m\n\u001b[0;32m-> 2035\u001b[0;31m             \u001b[0mindexer\u001b[0m \u001b[0;34m=\u001b[0m \u001b[0mself\u001b[0m\u001b[0;34m.\u001b[0m\u001b[0mix\u001b[0m\u001b[0;34m.\u001b[0m\u001b[0m_convert_to_indexer\u001b[0m\u001b[0;34m(\u001b[0m\u001b[0mkey\u001b[0m\u001b[0;34m,\u001b[0m \u001b[0maxis\u001b[0m\u001b[0;34m=\u001b[0m\u001b[0;36m1\u001b[0m\u001b[0;34m)\u001b[0m\u001b[0;34m\u001b[0m\u001b[0m\n\u001b[0m\u001b[1;32m   2036\u001b[0m             \u001b[0;32mreturn\u001b[0m \u001b[0mself\u001b[0m\u001b[0;34m.\u001b[0m\u001b[0mtake\u001b[0m\u001b[0;34m(\u001b[0m\u001b[0mindexer\u001b[0m\u001b[0;34m,\u001b[0m \u001b[0maxis\u001b[0m\u001b[0;34m=\u001b[0m\u001b[0;36m1\u001b[0m\u001b[0;34m,\u001b[0m \u001b[0mconvert\u001b[0m\u001b[0;34m=\u001b[0m\u001b[0;32mTrue\u001b[0m\u001b[0;34m)\u001b[0m\u001b[0;34m\u001b[0m\u001b[0m\n\u001b[1;32m   2037\u001b[0m \u001b[0;34m\u001b[0m\u001b[0m\n",
      "\u001b[0;32m/usr/local/Anaconda3-5.0.0-Linux-x86_64/envs/PUI2016_Python3/lib/python3.5/site-packages/pandas/core/indexing.py\u001b[0m in \u001b[0;36m_convert_to_indexer\u001b[0;34m(self, obj, axis, is_setter)\u001b[0m\n\u001b[1;32m   1212\u001b[0m                 \u001b[0mmask\u001b[0m \u001b[0;34m=\u001b[0m \u001b[0mcheck\u001b[0m \u001b[0;34m==\u001b[0m \u001b[0;34m-\u001b[0m\u001b[0;36m1\u001b[0m\u001b[0;34m\u001b[0m\u001b[0m\n\u001b[1;32m   1213\u001b[0m                 \u001b[0;32mif\u001b[0m \u001b[0mmask\u001b[0m\u001b[0;34m.\u001b[0m\u001b[0many\u001b[0m\u001b[0;34m(\u001b[0m\u001b[0;34m)\u001b[0m\u001b[0;34m:\u001b[0m\u001b[0;34m\u001b[0m\u001b[0m\n\u001b[0;32m-> 1214\u001b[0;31m                     \u001b[0;32mraise\u001b[0m \u001b[0mKeyError\u001b[0m\u001b[0;34m(\u001b[0m\u001b[0;34m'%s not in index'\u001b[0m \u001b[0;34m%\u001b[0m \u001b[0mobjarr\u001b[0m\u001b[0;34m[\u001b[0m\u001b[0mmask\u001b[0m\u001b[0;34m]\u001b[0m\u001b[0;34m)\u001b[0m\u001b[0;34m\u001b[0m\u001b[0m\n\u001b[0m\u001b[1;32m   1215\u001b[0m \u001b[0;34m\u001b[0m\u001b[0m\n\u001b[1;32m   1216\u001b[0m                 \u001b[0;32mreturn\u001b[0m \u001b[0m_values_from_object\u001b[0m\u001b[0;34m(\u001b[0m\u001b[0mindexer\u001b[0m\u001b[0;34m)\u001b[0m\u001b[0;34m\u001b[0m\u001b[0m\n",
      "\u001b[0;31mKeyError\u001b[0m: \"['boro'] not in index\""
     ]
    }
   ],
   "source": [
    "man_brook[['age','boro']].boxplot(by='boro', figsize=(20,10))"
   ]
  },
  {
   "cell_type": "markdown",
   "metadata": {},
   "source": [
    "### Now we noticed a lot of points outside the box, these are indicative of outliers."
   ]
  },
  {
   "cell_type": "code",
   "execution_count": null,
   "metadata": {},
   "outputs": [],
   "source": [
    "centiles = np.arange(0, 1, 0.05)\n",
    "print(centiles)\n",
    "\n",
    "results_Mann = Mann.age.quantile(centiles)\n",
    "results_BK = BK.age.quantile(centiles)\n",
    "\n",
    "print(\"centile of Manhattan: \\n{}\".format(results_Mann))\n",
    "print(\"\\n\")\n",
    "print(\"centile of Brooklyn: \\n{}\".format(results_BK))"
   ]
  },
  {
   "cell_type": "markdown",
   "metadata": {},
   "source": [
    "### Based from a step side of 5 for every centile, we hardly noticed this outliers... let's try looking at the tail..."
   ]
  },
  {
   "cell_type": "code",
   "execution_count": null,
   "metadata": {},
   "outputs": [],
   "source": [
    "centiles = np.arange(0.95, 1, 0.0015)\n",
    "print(centiles)\n",
    "\n",
    "results_Mann = Mann.age.quantile(centiles)\n",
    "results_BK = BK.age.quantile(centiles)\n",
    "\n",
    "print(\"centile of Manhattan: \\n{}\".format(results_Mann))\n",
    "print(\"\\n\")\n",
    "print(\"centile of Brooklyn: \\n{}\".format(results_BK))"
   ]
  },
  {
   "cell_type": "markdown",
   "metadata": {},
   "source": [
    "### We visualize our centile information to get a clearer view where the outliers start to occur..."
   ]
  },
  {
   "cell_type": "code",
   "execution_count": null,
   "metadata": {},
   "outputs": [],
   "source": [
    "results_Mann = pd.DataFrame(Mann.age.quantile(centiles)).plot(kind='bar',figsize=(20,10),rot=45)\n",
    "#plt.xticks(np.arange(0.95, 1, 0.0015),fontsize=14)\n",
    "plt.xticks(fontsize=14)\n",
    "plt.xlabel(\"Percentile\",fontsize=18)\n",
    "plt.ylabel(\"Age\",fontsize=18)\n",
    "plt.title(\"Percentile distribution of ages for Manhattan\",fontsize=18)\n",
    "\n",
    "results_BK = pd.DataFrame(BK.age.quantile(centiles)).plot(kind='bar',figsize=(20,10),rot=45)\n",
    "#plt.xticks(np.arange(0.95, 1, 0.0015),fontsize=14)\n",
    "plt.xticks(fontsize=14)\n",
    "plt.xlabel(\"Percentile\",fontsize=18)\n",
    "plt.ylabel(\"Age\",fontsize=18)\n",
    "plt.title(\"Percentile distribution of ages for Brooklyn\",fontsize=18)"
   ]
  },
  {
   "cell_type": "markdown",
   "metadata": {},
   "source": [
    "### The outliers tend to be around the further end, in the case of Manhattan, they start to show up just after 99.8th percentile and Brooklyn at the 98.8th percentile... so we get only those equal and less than those values."
   ]
  },
  {
   "cell_type": "code",
   "execution_count": null,
   "metadata": {},
   "outputs": [],
   "source": [
    "#outliers_Mann=Mann[Mann.age >= Mann.age.quantile(0.998)]\n",
    "non_outliers_Mann=Mann[Mann.age < Mann.age.quantile(0.998)]\n",
    "#outliers_BK=BK[BK.age >= BK.age.quantile(0.988)]\n",
    "non_outliers_BK=BK[BK.age < BK.age.quantile(0.988)]"
   ]
  },
  {
   "cell_type": "markdown",
   "metadata": {},
   "source": [
    "### Let's examine the histogram of the sample without the outliers..."
   ]
  },
  {
   "cell_type": "code",
   "execution_count": null,
   "metadata": {},
   "outputs": [],
   "source": [
    "non_outliers_Mann.hist('age',bins=100,figsize=(20,10))\n",
    "plt.xlabel(\"Percentile\",fontsize=18)\n",
    "plt.ylabel(\"Count\",fontsize=18)\n",
    "plt.title(\"Histogram of the age for Manhattan with exclusion of outliers\",fontsize=18)\n",
    "\n",
    "\n",
    "non_outliers_BK.hist('age',bins=100,figsize=(20,10))\n",
    "plt.xlabel(\"Percentile\",fontsize=18)\n",
    "plt.ylabel(\"Count\",fontsize=18)\n",
    "plt.title(\"Histogram of the age for Brooklyn with exclusion of outliers\",fontsize=18)"
   ]
  },
  {
   "cell_type": "markdown",
   "metadata": {},
   "source": [
    "### We notice that one of the bins have a high concentration of observations, is this indicative of an outlier?"
   ]
  },
  {
   "cell_type": "code",
   "execution_count": null,
   "metadata": {},
   "outputs": [],
   "source": [
    "pd.concat([non_outliers_Mann, non_outliers_BK])[['age','boro']].boxplot(by='boro', figsize=(20,10))\n",
    "plt.xlabel(\"Borough\",fontsize=18)\n",
    "plt.ylabel(\"Age\",fontsize=18)\n",
    "plt.title(\"Boxplot of Age by Borough (Manhattan and Brooklyn only)\",fontsize=18)"
   ]
  },
  {
   "cell_type": "markdown",
   "metadata": {},
   "source": [
    "### The boxplots tends to say otherwise... so i continue on with my investigation."
   ]
  },
  {
   "cell_type": "code",
   "execution_count": null,
   "metadata": {},
   "outputs": [],
   "source": [
    "bins = np.arange(0, 90, 5)\n",
    "plt.figure(figsize=(15,10))\n",
    "x=non_outliers_Mann.age.groupby(pd.cut(non_outliers_Mann.age,bins)).agg(['count']).cumsum()\n",
    "x_2=non_outliers_BK.age.groupby(pd.cut(non_outliers_BK.age,bins)).agg(['count']).cumsum()\n",
    "pl.plot(bins[:-1] + 5, x / x.max(),label=\"Manhattan residents\")\n",
    "pl.plot(bins[:-1] + 5, x_2 / x_2.max(),label=\"Brooklyn residents\")\n",
    "pl.plot(bins[:-1] + 5, np.sqrt(x_2 / x_2.max() - x / x.max())**2, 'k-',\n",
    "        label = \"Difference\")\n",
    "pl.xlabel(\"Age\")\n",
    "pl.ylabel(\"Normalized Cumulative Number\")\n",
    "pl.legend()\n",
    "plt.show()"
   ]
  },
  {
   "cell_type": "code",
   "execution_count": null,
   "metadata": {},
   "outputs": [],
   "source": []
  },
  {
   "cell_type": "markdown",
   "metadata": {},
   "source": [
    "## KS tests to compare 2 samples\n",
    "\n",
    "http://docs.scipy.org/doc/scipy-0.15.1/reference/generated/scipy.stats.ks_2samp.html"
   ]
  },
  {
   "cell_type": "code",
   "execution_count": null,
   "metadata": {},
   "outputs": [],
   "source": [
    "ks = scipy.stats.ks_2samp(non_outliers_Mann.age, non_outliers_BK.age)\n",
    "print(ks)\n",
    "ks[0]>ks[1]\n",
    "#reject the null hypothesis"
   ]
  },
  {
   "cell_type": "markdown",
   "metadata": {},
   "source": [
    "### Null hypothesis ($H_0$) : Riders that started their ride from Manhattan are drawn from the same population distribution as those that started their ride from Brooklyn.\n",
    "### Alt hypothesis ($H_A$): Riders that started their ride from Manhattan are drawn from different population distribution as those that started their ride from Brooklyn.\n",
    "\n",
    "Since the KS Statistic $\\gt$ the P-value, we <b>reject</b> $H_0$, thus we say that Manhattan riders are drawn different population distribution as compared from Brooklyn riders. "
   ]
  },
  {
   "cell_type": "code",
   "execution_count": null,
   "metadata": {},
   "outputs": [],
   "source": [
    "reduced_Mann = non_outliers_Mann.sample(size=200, replace=True)\n",
    "reduced_BK = non_outliers_BK.sample(size=200, replace=True)\n",
    "\n",
    "ks = scipy.stats.ks_2samp(reduced_Mann.age, reduced_BK.age)\n",
    "print(ks)                     \n",
    "ks[0]>ks[1]"
   ]
  },
  {
   "cell_type": "markdown",
   "metadata": {},
   "source": [
    "### Null hypothesis ($H_0$) : Riders that started their ride from Manhattan (Reduced dataset) are drawn from the same population distribution as those that started their ride from Brooklyn (Reduced dataset).\n",
    "### Alt hypothesis ($H_A$): Riders that started their ride from Manhattan (Reduced dataset) are drawn from different population distribution as those that started their ride from Brooklyn (Reduced dataset).\n",
    "\n",
    "Since the KS Statistic $\\gt$ the P-value, we <b>reject</b> $H_0$, thus we say that Manhattan riders (Reduced dataset) are drawn different population distribution as compared from Brooklyn riders (Reduced dataset). "
   ]
  },
  {
   "cell_type": "markdown",
   "metadata": {},
   "source": [
    "## Correlation testing\n",
    "http://docs.scipy.org/doc/scipy/reference/generated/scipy.stats.pearsonr.html#scipy.stats.pearsonr"
   ]
  },
  {
   "cell_type": "code",
   "execution_count": null,
   "metadata": {},
   "outputs": [],
   "source": [
    "Mann_pair = np.random.choice(non_outliers_Mann.age, 500)\n",
    "Mann_pair.sort()\n",
    "BK_pair = np.random.choice(non_outliers_BK.age, 500)\n",
    "BK_pair.sort()\n",
    "scipy.stats.pearsonr(Mann_pair, BK_pair)"
   ]
  },
  {
   "cell_type": "markdown",
   "metadata": {},
   "source": [
    "### Null hypothesis ($H_0$) : Manhattan riders are not correlated with Brooklyn riders.\n",
    "### Alt hypothesis ($H_A$): Manhattan riders are correlated with Brooklyn riders.\n",
    "\n",
    "Since the p-Value returned $\\lt$ our significance level $\\alpha = 0.5$, we <b>reject</b> $H_0$, day time riders are correlated with night time riders."
   ]
  },
  {
   "cell_type": "markdown",
   "metadata": {},
   "source": [
    "## Spearman's test for correlation\n",
    "\n",
    "http://docs.scipy.org/doc/scipy/reference/generated/scipy.stats.spearmanr.html#scipy.stats.spearmanr"
   ]
  },
  {
   "cell_type": "code",
   "execution_count": null,
   "metadata": {},
   "outputs": [],
   "source": [
    "scipy.stats.spearmanr(Mann_pair, BK_pair)"
   ]
  },
  {
   "cell_type": "markdown",
   "metadata": {},
   "source": [
    "### Null hypothesis ($H_0$) : Manhattan riders are not correlated with Brooklyn riders.\n",
    "### Alt hypothesis ($H_A$): Manhattan riders are correlated with Brooklyn riders.\n",
    "\n",
    "Since the p-Value returned $\\lt$ our significance level $\\alpha = 0.5$, we <b>reject</b> $H_0$, day time riders are correlated with night time riders."
   ]
  }
 ],
 "metadata": {
  "kernelspec": {
   "display_name": "Python 2",
   "language": "python",
   "name": "python2"
  },
  "language_info": {
   "codemirror_mode": {
    "name": "ipython",
    "version": 2
   },
   "file_extension": ".py",
   "mimetype": "text/x-python",
   "name": "python",
   "nbconvert_exporter": "python",
   "pygments_lexer": "ipython2",
   "version": "2.7.15"
  }
 },
 "nbformat": 4,
 "nbformat_minor": 2
}
